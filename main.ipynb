{
 "cells": [
  {
   "attachments": {},
   "cell_type": "markdown",
   "metadata": {},
   "source": [
    "### raw data stastis"
   ]
  },
  {
   "cell_type": "code",
   "execution_count": 3,
   "metadata": {},
   "outputs": [
    {
     "name": "stdout",
     "output_type": "stream",
     "text": [
      "INFO: Pandarallel will run on 4 workers.\n",
      "INFO: Pandarallel will use standard multiprocessing data transfer (pipe) to transfer data between the main process and workers.\n"
     ]
    }
   ],
   "source": [
    "import os\n",
    "import librosa\n",
    "from glob import glob\n",
    "import pandas as pd\n",
    "from pandarallel import pandarallel\n",
    "import soundfile as sf\n",
    "pandarallel.initialize(progress_bar=True, use_memory_fs=False, nb_workers=4)"
   ]
  },
  {
   "cell_type": "code",
   "execution_count": 4,
   "metadata": {},
   "outputs": [
    {
     "data": {
      "text/html": [
       "<div>\n",
       "<style scoped>\n",
       "    .dataframe tbody tr th:only-of-type {\n",
       "        vertical-align: middle;\n",
       "    }\n",
       "\n",
       "    .dataframe tbody tr th {\n",
       "        vertical-align: top;\n",
       "    }\n",
       "\n",
       "    .dataframe thead th {\n",
       "        text-align: right;\n",
       "    }\n",
       "</style>\n",
       "<table border=\"1\" class=\"dataframe\">\n",
       "  <thead>\n",
       "    <tr style=\"text-align: right;\">\n",
       "      <th></th>\n",
       "      <th>path</th>\n",
       "    </tr>\n",
       "  </thead>\n",
       "  <tbody>\n",
       "    <tr>\n",
       "      <th>0</th>\n",
       "      <td>datas/raws/Đừng_nói_khi_yêu/Đừng nói khi yêu t...</td>\n",
       "    </tr>\n",
       "    <tr>\n",
       "      <th>1</th>\n",
       "      <td>datas/raws/Đừng_nói_khi_yêu/Đừng nói khi yêu t...</td>\n",
       "    </tr>\n",
       "    <tr>\n",
       "      <th>2</th>\n",
       "      <td>datas/raws/Đừng_nói_khi_yêu/Đừng nói khi yêu t...</td>\n",
       "    </tr>\n",
       "    <tr>\n",
       "      <th>3</th>\n",
       "      <td>datas/raws/Đừng_nói_khi_yêu/Preview Đừng nói k...</td>\n",
       "    </tr>\n",
       "    <tr>\n",
       "      <th>4</th>\n",
       "      <td>datas/raws/Đừng_nói_khi_yêu/Đừng nói khi yêu t...</td>\n",
       "    </tr>\n",
       "  </tbody>\n",
       "</table>\n",
       "</div>"
      ],
      "text/plain": [
       "                                                path\n",
       "0  datas/raws/Đừng_nói_khi_yêu/Đừng nói khi yêu t...\n",
       "1  datas/raws/Đừng_nói_khi_yêu/Đừng nói khi yêu t...\n",
       "2  datas/raws/Đừng_nói_khi_yêu/Đừng nói khi yêu t...\n",
       "3  datas/raws/Đừng_nói_khi_yêu/Preview Đừng nói k...\n",
       "4  datas/raws/Đừng_nói_khi_yêu/Đừng nói khi yêu t..."
      ]
     },
     "execution_count": 4,
     "metadata": {},
     "output_type": "execute_result"
    }
   ],
   "source": [
    "path = \"datas/raws/Đừng_nói_khi_yêu/*.wav\"\n",
    "files = glob(path)\n",
    "data = pd.DataFrame(files, columns=[\"path\"])\n",
    "data.head()"
   ]
  },
  {
   "cell_type": "code",
   "execution_count": 5,
   "metadata": {},
   "outputs": [],
   "source": [
    "def get_duration(path):\n",
    "    wav, sr = librosa.load(path, sr=16000)\n",
    "\n",
    "    return wav.shape[0]/sr"
   ]
  },
  {
   "cell_type": "code",
   "execution_count": 6,
   "metadata": {},
   "outputs": [],
   "source": [
    "new_name = []\n",
    "for index in data.index:\n",
    "    path = f\"/home/tuyendv/Desktop/codes/ess_data_crawler_pipline/datas/raws/đừng_nói_khi_yêu/wav_{index}.wav\"\n",
    "    new_name.append(path)"
   ]
  },
  {
   "cell_type": "code",
   "execution_count": 7,
   "metadata": {},
   "outputs": [
    {
     "data": {
      "text/html": [
       "<div>\n",
       "<style scoped>\n",
       "    .dataframe tbody tr th:only-of-type {\n",
       "        vertical-align: middle;\n",
       "    }\n",
       "\n",
       "    .dataframe tbody tr th {\n",
       "        vertical-align: top;\n",
       "    }\n",
       "\n",
       "    .dataframe thead th {\n",
       "        text-align: right;\n",
       "    }\n",
       "</style>\n",
       "<table border=\"1\" class=\"dataframe\">\n",
       "  <thead>\n",
       "    <tr style=\"text-align: right;\">\n",
       "      <th></th>\n",
       "      <th>new_name</th>\n",
       "    </tr>\n",
       "  </thead>\n",
       "  <tbody>\n",
       "    <tr>\n",
       "      <th>0</th>\n",
       "      <td>/home/tuyendv/Desktop/codes/ess_data_crawler_p...</td>\n",
       "    </tr>\n",
       "    <tr>\n",
       "      <th>1</th>\n",
       "      <td>/home/tuyendv/Desktop/codes/ess_data_crawler_p...</td>\n",
       "    </tr>\n",
       "    <tr>\n",
       "      <th>2</th>\n",
       "      <td>/home/tuyendv/Desktop/codes/ess_data_crawler_p...</td>\n",
       "    </tr>\n",
       "    <tr>\n",
       "      <th>3</th>\n",
       "      <td>/home/tuyendv/Desktop/codes/ess_data_crawler_p...</td>\n",
       "    </tr>\n",
       "    <tr>\n",
       "      <th>4</th>\n",
       "      <td>/home/tuyendv/Desktop/codes/ess_data_crawler_p...</td>\n",
       "    </tr>\n",
       "  </tbody>\n",
       "</table>\n",
       "</div>"
      ],
      "text/plain": [
       "                                            new_name\n",
       "0  /home/tuyendv/Desktop/codes/ess_data_crawler_p...\n",
       "1  /home/tuyendv/Desktop/codes/ess_data_crawler_p...\n",
       "2  /home/tuyendv/Desktop/codes/ess_data_crawler_p...\n",
       "3  /home/tuyendv/Desktop/codes/ess_data_crawler_p...\n",
       "4  /home/tuyendv/Desktop/codes/ess_data_crawler_p..."
      ]
     },
     "execution_count": 7,
     "metadata": {},
     "output_type": "execute_result"
    }
   ],
   "source": [
    "new_name_df = pd.DataFrame(new_name, columns=[\"new_name\"])\n",
    "new_name_df.head()"
   ]
  },
  {
   "cell_type": "code",
   "execution_count": 8,
   "metadata": {},
   "outputs": [],
   "source": [
    "temp = pd.concat([data, new_name_df], axis=1)"
   ]
  },
  {
   "cell_type": "code",
   "execution_count": 9,
   "metadata": {},
   "outputs": [],
   "source": [
    "for index in temp.index:\n",
    "    wav, sr = librosa.load(temp[\"path\"][index], sr=22050)\n",
    "\n",
    "    sf.write(temp[\"new_name\"][index], wav, samplerate=22050)"
   ]
  },
  {
   "cell_type": "code",
   "execution_count": 9,
   "metadata": {},
   "outputs": [
    {
     "data": {
      "text/plain": [
       "<matplotlib.axes._subplots.AxesSubplot at 0x7fc7cf61cb50>"
      ]
     },
     "execution_count": 9,
     "metadata": {},
     "output_type": "execute_result"
    },
    {
     "data": {
      "image/png": "[encoded data removed]",
      "text/plain": [
       "<Figure size 640x480 with 1 Axes>"
      ]
     },
     "metadata": {},
     "output_type": "display_data"
    }
   ],
   "source": [
    "(data[\"duration\"]/60).hist(bins=100)"
   ]
  },
  {
   "attachments": {},
   "cell_type": "markdown",
   "metadata": {},
   "source": [
    "### youtube data stastis"
   ]
  },
  {
   "cell_type": "code",
   "execution_count": 1,
   "metadata": {},
   "outputs": [],
   "source": [
    "import os\n",
    "from glob import glob\n",
    "import pandas as pd\n",
    "import librosa"
   ]
  },
  {
   "cell_type": "code",
   "execution_count": 2,
   "metadata": {},
   "outputs": [
    {
     "data": {
      "text/plain": [
       "['Anime Rewind', 'A Pure Day']"
      ]
     },
     "execution_count": 2,
     "metadata": {},
     "output_type": "execute_result"
    }
   ],
   "source": [
    "path = \"/home/tuyendv/Desktop/small_data\"\n",
    "speaker_dirs = os.listdir(path)\n",
    "speaker_dirs"
   ]
  },
  {
   "cell_type": "code",
   "execution_count": 3,
   "metadata": {},
   "outputs": [],
   "source": [
    "wavs = []\n",
    "for spk_dir in speaker_dirs:\n",
    "    spk_dir = f'{path}/{spk_dir}/*/*.wav'\n",
    "    wav_paths = glob(spk_dir)\n",
    "    \n",
    "    wavs+=wav_paths"
   ]
  },
  {
   "cell_type": "code",
   "execution_count": 4,
   "metadata": {},
   "outputs": [],
   "source": [
    "def duration(path):\n",
    "    wav, sr = librosa.load(path, sr=16000)\n",
    "\n",
    "    return wav.shape[0] / sr"
   ]
  },
  {
   "cell_type": "code",
   "execution_count": 5,
   "metadata": {},
   "outputs": [
    {
     "data": {
      "text/html": [
       "<div>\n",
       "<style scoped>\n",
       "    .dataframe tbody tr th:only-of-type {\n",
       "        vertical-align: middle;\n",
       "    }\n",
       "\n",
       "    .dataframe tbody tr th {\n",
       "        vertical-align: top;\n",
       "    }\n",
       "\n",
       "    .dataframe thead th {\n",
       "        text-align: right;\n",
       "    }\n",
       "</style>\n",
       "<table border=\"1\" class=\"dataframe\">\n",
       "  <thead>\n",
       "    <tr style=\"text-align: right;\">\n",
       "      <th></th>\n",
       "      <th>wav</th>\n",
       "    </tr>\n",
       "  </thead>\n",
       "  <tbody>\n",
       "    <tr>\n",
       "      <th>0</th>\n",
       "      <td>/home/tuyendv/Desktop/small_data/Anime Rewind/...</td>\n",
       "    </tr>\n",
       "    <tr>\n",
       "      <th>1</th>\n",
       "      <td>/home/tuyendv/Desktop/small_data/Anime Rewind/...</td>\n",
       "    </tr>\n",
       "    <tr>\n",
       "      <th>2</th>\n",
       "      <td>/home/tuyendv/Desktop/small_data/Anime Rewind/...</td>\n",
       "    </tr>\n",
       "    <tr>\n",
       "      <th>3</th>\n",
       "      <td>/home/tuyendv/Desktop/small_data/Anime Rewind/...</td>\n",
       "    </tr>\n",
       "    <tr>\n",
       "      <th>4</th>\n",
       "      <td>/home/tuyendv/Desktop/small_data/Anime Rewind/...</td>\n",
       "    </tr>\n",
       "  </tbody>\n",
       "</table>\n",
       "</div>"
      ],
      "text/plain": [
       "                                                 wav\n",
       "0  /home/tuyendv/Desktop/small_data/Anime Rewind/...\n",
       "1  /home/tuyendv/Desktop/small_data/Anime Rewind/...\n",
       "2  /home/tuyendv/Desktop/small_data/Anime Rewind/...\n",
       "3  /home/tuyendv/Desktop/small_data/Anime Rewind/...\n",
       "4  /home/tuyendv/Desktop/small_data/Anime Rewind/..."
      ]
     },
     "execution_count": 5,
     "metadata": {},
     "output_type": "execute_result"
    }
   ],
   "source": [
    "wav_df = pd.DataFrame(wavs, columns=[\"wav\"])\n",
    "wav_df.head()"
   ]
  },
  {
   "cell_type": "code",
   "execution_count": 6,
   "metadata": {},
   "outputs": [],
   "source": [
    "wav_df[\"length\"] = wav_df.wav.apply(lambda x: duration(x))"
   ]
  },
  {
   "cell_type": "code",
   "execution_count": 7,
   "metadata": {},
   "outputs": [
    {
     "data": {
      "text/html": [
       "<div>\n",
       "<style scoped>\n",
       "    .dataframe tbody tr th:only-of-type {\n",
       "        vertical-align: middle;\n",
       "    }\n",
       "\n",
       "    .dataframe tbody tr th {\n",
       "        vertical-align: top;\n",
       "    }\n",
       "\n",
       "    .dataframe thead th {\n",
       "        text-align: right;\n",
       "    }\n",
       "</style>\n",
       "<table border=\"1\" class=\"dataframe\">\n",
       "  <thead>\n",
       "    <tr style=\"text-align: right;\">\n",
       "      <th></th>\n",
       "      <th>wav</th>\n",
       "      <th>length</th>\n",
       "    </tr>\n",
       "  </thead>\n",
       "  <tbody>\n",
       "    <tr>\n",
       "      <th>0</th>\n",
       "      <td>/home/tuyendv/Desktop/small_data/Anime Rewind/...</td>\n",
       "      <td>3.192</td>\n",
       "    </tr>\n",
       "    <tr>\n",
       "      <th>1</th>\n",
       "      <td>/home/tuyendv/Desktop/small_data/Anime Rewind/...</td>\n",
       "      <td>4.536</td>\n",
       "    </tr>\n",
       "    <tr>\n",
       "      <th>2</th>\n",
       "      <td>/home/tuyendv/Desktop/small_data/Anime Rewind/...</td>\n",
       "      <td>3.416</td>\n",
       "    </tr>\n",
       "    <tr>\n",
       "      <th>3</th>\n",
       "      <td>/home/tuyendv/Desktop/small_data/Anime Rewind/...</td>\n",
       "      <td>3.068</td>\n",
       "    </tr>\n",
       "    <tr>\n",
       "      <th>4</th>\n",
       "      <td>/home/tuyendv/Desktop/small_data/Anime Rewind/...</td>\n",
       "      <td>4.056</td>\n",
       "    </tr>\n",
       "  </tbody>\n",
       "</table>\n",
       "</div>"
      ],
      "text/plain": [
       "                                                 wav  length\n",
       "0  /home/tuyendv/Desktop/small_data/Anime Rewind/...   3.192\n",
       "1  /home/tuyendv/Desktop/small_data/Anime Rewind/...   4.536\n",
       "2  /home/tuyendv/Desktop/small_data/Anime Rewind/...   3.416\n",
       "3  /home/tuyendv/Desktop/small_data/Anime Rewind/...   3.068\n",
       "4  /home/tuyendv/Desktop/small_data/Anime Rewind/...   4.056"
      ]
     },
     "execution_count": 7,
     "metadata": {},
     "output_type": "execute_result"
    }
   ],
   "source": [
    "wav_df.head()"
   ]
  },
  {
   "cell_type": "code",
   "execution_count": 8,
   "metadata": {},
   "outputs": [
    {
     "data": {
      "text/plain": [
       "<matplotlib.axes._subplots.AxesSubplot at 0x7f886929d970>"
      ]
     },
     "execution_count": 8,
     "metadata": {},
     "output_type": "execute_result"
    },
    {
     "data": {
      "image/png": "[encoded data removed]",
      "text/plain": [
       "<Figure size 640x480 with 1 Axes>"
      ]
     },
     "metadata": {},
     "output_type": "display_data"
    }
   ],
   "source": [
    "wav_df.length.hist(bins=1000)"
   ]
  },
  {
   "attachments": {},
   "cell_type": "markdown",
   "metadata": {},
   "source": [
    "### map real speaker to speaker id"
   ]
  },
  {
   "cell_type": "code",
   "execution_count": 3,
   "metadata": {},
   "outputs": [],
   "source": [
    "from sklearn.model_selection import train_test_split"
   ]
  },
  {
   "cell_type": "code",
   "execution_count": 7,
   "metadata": {},
   "outputs": [
    {
     "data": {
      "text/plain": [
       "[[4, 1, 3], [2]]"
      ]
     },
     "execution_count": 7,
     "metadata": {},
     "output_type": "execute_result"
    }
   ],
   "source": [
    "train_test_split([1, 2, 3, 4], test_size=0.1, random_state=42)"
   ]
  },
  {
   "cell_type": "code",
   "execution_count": 2,
   "metadata": {},
   "outputs": [
    {
     "data": {
      "text/plain": [
       "['raws', 'noises', 'diar_datas', 'simulated_datas']"
      ]
     },
     "execution_count": 2,
     "metadata": {},
     "output_type": "execute_result"
    }
   ],
   "source": [
    "import os\n",
    "import json\n",
    "\n",
    "path = \"datas\"\n",
    "speakers = os.listdir(path)\n",
    "speakers"
   ]
  },
  {
   "cell_type": "code",
   "execution_count": 10,
   "metadata": {},
   "outputs": [],
   "source": [
    "spk2id = {spk: f\"speaker_{id}\" for id, spk in enumerate(speakers)}"
   ]
  },
  {
   "cell_type": "code",
   "execution_count": 11,
   "metadata": {},
   "outputs": [],
   "source": [
    "with open(\"spk2id.json\", \"w\", encoding=\"utf-8\") as f:\n",
    "    json_obj = json.dumps(spk2id, indent=4, ensure_ascii=False)\n",
    "    f.write(json_obj)"
   ]
  },
  {
   "cell_type": "code",
   "execution_count": 5,
   "metadata": {},
   "outputs": [],
   "source": [
    "import librosa\n",
    "import soundfile as sf\n",
    "import os\n",
    "from tqdm import tqdm"
   ]
  },
  {
   "cell_type": "code",
   "execution_count": 11,
   "metadata": {},
   "outputs": [
    {
     "name": "stderr",
     "output_type": "stream",
     "text": [
      "100%|██████████| 651/651 [08:06<00:00,  1.34it/s]\n"
     ]
    }
   ],
   "source": [
    "in_path = \"diar_datas\"\n",
    "out_path = \"youtube_datas\"\n",
    "\n",
    "for _dir in tqdm(os.listdir(in_path)):\n",
    "    abs_dir = os.path.join(in_path, _dir)\n",
    "\n",
    "    if not os.path.exists(os.path.join(out_path, _dir)):\n",
    "        os.mkdir(os.path.join(out_path, _dir))\n",
    "    \n",
    "    for file in os.listdir(abs_dir):\n",
    "        abs_path = os.path.join(abs_dir, file)\n",
    "\n",
    "        wav, sr = librosa.load(abs_path, sr=16000)\n",
    "\n",
    "        abs_out_path = os.path.join(out_path, _dir, file)\n",
    "        sf.write(abs_out_path, wav, samplerate=sr)\n"
   ]
  },
  {
   "cell_type": "code",
   "execution_count": 16,
   "metadata": {},
   "outputs": [],
   "source": [
    "import pandas as pd\n",
    "import os\n",
    "import librosa\n",
    "from tqdm import tqdm"
   ]
  },
  {
   "cell_type": "code",
   "execution_count": 19,
   "metadata": {},
   "outputs": [
    {
     "name": "stderr",
     "output_type": "stream",
     "text": [
      "100%|██████████| 651/651 [00:22<00:00, 29.26it/s]\n"
     ]
    }
   ],
   "source": [
    "path = \"youtube_datas\"\n",
    "datas = []\n",
    "for _dir in tqdm(os.listdir(path)):\n",
    "    abs_dir = path + \"/\" + _dir\n",
    "    for file in os.listdir(abs_dir):\n",
    "        abs_path = os.path.join(abs_dir, file)\n",
    "        wav, sr = librosa.load(abs_path, sr=16000)\n",
    "        duration = wav.shape[0] / sr\n",
    "\n",
    "        datas.append([abs_path, _dir, duration])"
   ]
  },
  {
   "cell_type": "code",
   "execution_count": 20,
   "metadata": {},
   "outputs": [],
   "source": [
    "datas_df = pd.DataFrame(datas, columns=[\"path\", \"spk\", \"duration\"])"
   ]
  },
  {
   "cell_type": "code",
   "execution_count": 26,
   "metadata": {},
   "outputs": [],
   "source": [
    "temps = []\n",
    "for name, group in datas_df.groupby(\"spk\"):\n",
    "    temps.append([name, group[\"duration\"].sum()])"
   ]
  },
  {
   "cell_type": "code",
   "execution_count": 27,
   "metadata": {},
   "outputs": [
    {
     "data": {
      "text/html": [
       "<div>\n",
       "<style scoped>\n",
       "    .dataframe tbody tr th:only-of-type {\n",
       "        vertical-align: middle;\n",
       "    }\n",
       "\n",
       "    .dataframe tbody tr th {\n",
       "        vertical-align: top;\n",
       "    }\n",
       "\n",
       "    .dataframe thead th {\n",
       "        text-align: right;\n",
       "    }\n",
       "</style>\n",
       "<table border=\"1\" class=\"dataframe\">\n",
       "  <thead>\n",
       "    <tr style=\"text-align: right;\">\n",
       "      <th></th>\n",
       "      <th>spk</th>\n",
       "      <th>duration</th>\n",
       "    </tr>\n",
       "  </thead>\n",
       "  <tbody>\n",
       "    <tr>\n",
       "      <th>0</th>\n",
       "      <td>spk_0</td>\n",
       "      <td>107.972</td>\n",
       "    </tr>\n",
       "    <tr>\n",
       "      <th>1</th>\n",
       "      <td>spk_1</td>\n",
       "      <td>81.614</td>\n",
       "    </tr>\n",
       "    <tr>\n",
       "      <th>2</th>\n",
       "      <td>spk_10</td>\n",
       "      <td>123.496</td>\n",
       "    </tr>\n",
       "    <tr>\n",
       "      <th>3</th>\n",
       "      <td>spk_100</td>\n",
       "      <td>200.720</td>\n",
       "    </tr>\n",
       "    <tr>\n",
       "      <th>4</th>\n",
       "      <td>spk_101</td>\n",
       "      <td>143.204</td>\n",
       "    </tr>\n",
       "  </tbody>\n",
       "</table>\n",
       "</div>"
      ],
      "text/plain": [
       "       spk  duration\n",
       "0    spk_0   107.972\n",
       "1    spk_1    81.614\n",
       "2   spk_10   123.496\n",
       "3  spk_100   200.720\n",
       "4  spk_101   143.204"
      ]
     },
     "execution_count": 27,
     "metadata": {},
     "output_type": "execute_result"
    }
   ],
   "source": [
    "temps = pd.DataFrame(temps, columns=[\"spk\", \"duration\"])\n",
    "temps.head()"
   ]
  },
  {
   "cell_type": "code",
   "execution_count": 34,
   "metadata": {},
   "outputs": [
    {
     "data": {
      "text/plain": [
       "128864.156375"
      ]
     },
     "execution_count": 34,
     "metadata": {},
     "output_type": "execute_result"
    }
   ],
   "source": [
    "temps[\"duration\"].sum()"
   ]
  },
  {
   "cell_type": "code",
   "execution_count": 31,
   "metadata": {},
   "outputs": [
    {
     "data": {
      "text/plain": [
       "<matplotlib.axes._subplots.AxesSubplot at 0x7f3968b21400>"
      ]
     },
     "execution_count": 31,
     "metadata": {},
     "output_type": "execute_result"
    },
    {
     "data": {
      "image/png": "[encoded data removed]",
      "text/plain": [
       "<Figure size 640x480 with 1 Axes>"
      ]
     },
     "metadata": {},
     "output_type": "display_data"
    }
   ],
   "source": [
    "(temps[\"duration\"]/60).hist(bins=100)"
   ]
  }
 ],
 "metadata": {
  "kernelspec": {
   "display_name": "dl",
   "language": "python",
   "name": "python3"
  },
  "language_info": {
   "codemirror_mode": {
    "name": "ipython",
    "version": 3
   },
   "file_extension": ".py",
   "mimetype": "text/x-python",
   "name": "python",
   "nbconvert_exporter": "python",
   "pygments_lexer": "ipython3",
   "version": "3.8.16"
  },
  "orig_nbformat": 4
 },
 "nbformat": 4,
 "nbformat_minor": 2
}
