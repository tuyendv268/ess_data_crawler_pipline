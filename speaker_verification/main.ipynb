{
 "cells": [
  {
   "attachments": {},
   "cell_type": "markdown",
   "metadata": {},
   "source": [
    "### filter"
   ]
  },
  {
   "cell_type": "code",
   "execution_count": 73,
   "metadata": {},
   "outputs": [],
   "source": [
    "import os\n",
    "import librosa\n",
    "import soundfile as sf\n",
    "from glob import glob\n",
    "from tqdm import tqdm"
   ]
  },
  {
   "cell_type": "code",
   "execution_count": 74,
   "metadata": {},
   "outputs": [
    {
     "name": "stderr",
     "output_type": "stream",
     "text": [
      "100%|██████████| 5/5 [00:00<00:00,  6.66it/s]\n"
     ]
    }
   ],
   "source": [
    "input_path = \"/home/tuyendv/Desktop/codes/ess_data_crawler_pipline/speaker_diarization/outputs/segments\"\n",
    "output_path = \"/home/tuyendv/Desktop/codes/ess_data_crawler_pipline/outputs/speaker_diarization\"\n",
    "\n",
    "speakers = glob(f'{input_path}/speaker_*')\n",
    "for speaker in tqdm(speakers):\n",
    "    speaker_name = speaker.split(\"/\")[-1]\n",
    "    wavs = glob(f'{speaker}/*.wav')\n",
    "\n",
    "    out_path = f'{output_path}/{speaker_name}'\n",
    "    if not os.path.exists(out_path):\n",
    "        os.mkdir(out_path)\n",
    "\n",
    "    for wav_path in wavs:\n",
    "        wav, sr = librosa.load(wav_path, sr=16000)\n",
    "\n",
    "        if wav.shape[0]/sr < 1:\n",
    "            continue\n",
    "        wav_name = wav_path.split(\"/\")[-1]\n",
    "        wav_path = f'{out_path}/{wav_name}'\n",
    "        wav = wav / abs(wav.max())\n",
    "        sf.write(wav_path, wav, samplerate=sr)\n"
   ]
  },
  {
   "attachments": {},
   "cell_type": "markdown",
   "metadata": {},
   "source": [
    "### speaker verification"
   ]
  },
  {
   "cell_type": "code",
   "execution_count": 75,
   "metadata": {},
   "outputs": [],
   "source": [
    "import os\n",
    "import nemo\n",
    "import re\n",
    "import nemo.collections.asr as nemo_asr\n",
    "from omegaconf import OmegaConf\n",
    "from glob import glob\n",
    "import random\n",
    "from tqdm import tqdm\n",
    "import shutil\n",
    "import json"
   ]
  },
  {
   "cell_type": "code",
   "execution_count": 76,
   "metadata": {},
   "outputs": [],
   "source": [
    "# load data\n",
    "path = \"/home/tuyendv/Desktop/codes/ess_data_crawler_pipline/outputs/speaker_diarization\"\n",
    "files = glob(f'{path}/*/*.wav')\n",
    "\n",
    "speaker2wavs = {}\n",
    "for _file in files:\n",
    "    path = _file\n",
    "    temp = _file.split(\"/\")[-1]\n",
    "    wav_id = re.sub(\"_\\d+\\.wav\",\"\", temp)\n",
    "    \n",
    "    if wav_id not in speaker2wavs:\n",
    "        speaker2wavs[wav_id] = [path,]\n",
    "    else:\n",
    "        speaker2wavs[wav_id].append(path)"
   ]
  },
  {
   "cell_type": "code",
   "execution_count": null,
   "metadata": {},
   "outputs": [],
   "source": [
    "!bash prepare_data_for_inference.sh "
   ]
  },
  {
   "cell_type": "code",
   "execution_count": null,
   "metadata": {},
   "outputs": [],
   "source": [
    "MODEL_CONFIG = 'config/titanet-large.yaml'\n",
    "config = OmegaConf.load(MODEL_CONFIG)\n",
    "\n",
    "verification_model = nemo_asr.models.EncDecSpeakerLabelModel.load_from_checkpoint(\n",
    "    \"outputs/ckpts/TitaNet-L--val_loss=1.0419-epoch=45.ckpt\",\n",
    "    map_location=\"cpu\",\n",
    "    hparams_file=\"config/hparams.yml\")"
   ]
  },
  {
   "cell_type": "code",
   "execution_count": 48,
   "metadata": {},
   "outputs": [
    {
     "data": {
      "text/plain": [
       "[{'audio_filepath': '/home/tuyendv/Desktop/codes/ess_data_crawler_pipline/outputs/speaker_diarization/speaker_0/wav_0.rttm_speaker_0_0.wav',\n",
       "  'offset': 0,\n",
       "  'duration': 1.42,\n",
       "  'label': 'speaker_0'},\n",
       " {'audio_filepath': '/home/tuyendv/Desktop/codes/ess_data_crawler_pipline/outputs/speaker_diarization/speaker_0/wav_0.rttm_speaker_0_1.wav',\n",
       "  'offset': 0,\n",
       "  'duration': 1.18,\n",
       "  'label': 'speaker_0'},\n",
       " {'audio_filepath': '/home/tuyendv/Desktop/codes/ess_data_crawler_pipline/outputs/speaker_diarization/speaker_0/wav_0.rttm_speaker_0_16.wav',\n",
       "  'offset': 0,\n",
       "  'duration': 1.5,\n",
       "  'label': 'speaker_0'},\n",
       " {'audio_filepath': '/home/tuyendv/Desktop/codes/ess_data_crawler_pipline/outputs/speaker_diarization/speaker_0/wav_0.rttm_speaker_0_18.wav',\n",
       "  'offset': 0,\n",
       "  'duration': 2.299937,\n",
       "  'label': 'speaker_0'},\n",
       " {'audio_filepath': '/home/tuyendv/Desktop/codes/ess_data_crawler_pipline/outputs/speaker_diarization/speaker_0/wav_0.rttm_speaker_0_19.wav',\n",
       "  'offset': 0,\n",
       "  'duration': 1.18,\n",
       "  'label': 'speaker_0'}]"
      ]
     },
     "execution_count": 48,
     "metadata": {},
     "output_type": "execute_result"
    }
   ],
   "source": [
    "def load_inference_data(path):\n",
    "    datas = []\n",
    "    with open(path, \"r\", encoding=\"utf-8\") as f:\n",
    "        lines = f.readlines()\n",
    "\n",
    "        for line in lines:\n",
    "            data = json.loads(line.strip())\n",
    "            datas.append(data)\n",
    "    return datas\n",
    "\n",
    "path = \"inference.json\"\n",
    "datas =load_inference_data(path)\n",
    "datas[0:5]"
   ]
  },
  {
   "cell_type": "code",
   "execution_count": null,
   "metadata": {},
   "outputs": [],
   "source": [
    "def infer_verification_v1(paths_1, paths_2):\n",
    "    embedding_1 = []\n",
    "    for path_1 in paths_1:\n",
    "        embedding = verification_model.get_embedding(path_1)\n",
    "        embedding_1.append(embedding)\n",
    "    \n",
    "    for path_2 in paths_2:\n",
    "        res = verification_model.verify_speakers(path_1, path_2, threshold=0.7)\n",
    "        embedding = verification_model.get_embedding(path_1)\n",
    "        embedding_1.append(embedding)\n",
    "    return True"
   ]
  },
  {
   "cell_type": "code",
   "execution_count": 68,
   "metadata": {},
   "outputs": [
    {
     "name": "stdout",
     "output_type": "stream",
     "text": [
      "[NeMo I 2023-05-17 11:54:29 collections:298] Filtered duration for loading collection is  0.00 hours.\n",
      "[NeMo I 2023-05-17 11:54:29 collections:299] Dataset loaded with 195 items, total duration of  0.08 hours.\n",
      "[NeMo I 2023-05-17 11:54:29 collections:301] # 195 files loaded accounting to # 5 labels\n"
     ]
    },
    {
     "name": "stderr",
     "output_type": "stream",
     "text": [
      "100%|██████████| 49/49 [00:23<00:00,  2.05it/s]\n"
     ]
    }
   ],
   "source": [
    "manifest_filepath = \"/home/tuyendv/Desktop/codes/ess_data_crawler_pipline/speaker_verification/inference.json\"\n",
    "embs, logits, gt_labels, _ = verification_model.batch_inference(manifest_filepath, batch_size=4, sample_rate=16000, device='cpu')"
   ]
  },
  {
   "cell_type": "code",
   "execution_count": 69,
   "metadata": {},
   "outputs": [
    {
     "data": {
      "text/plain": [
       "tensor([[1.0000, 0.6850, 0.6269,  ..., 0.4720, 0.5814, 0.5839],\n",
       "        [0.6850, 1.0000, 0.5817,  ..., 0.5754, 0.6009, 0.5841],\n",
       "        [0.6269, 0.5817, 1.0000,  ..., 0.5484, 0.5463, 0.6000],\n",
       "        ...,\n",
       "        [0.4720, 0.5754, 0.5484,  ..., 1.0000, 0.6117, 0.5661],\n",
       "        [0.5814, 0.6009, 0.5463,  ..., 0.6117, 1.0000, 0.7036],\n",
       "        [0.5839, 0.5841, 0.6000,  ..., 0.5661, 0.7036, 1.0000]])"
      ]
     },
     "execution_count": 69,
     "metadata": {},
     "output_type": "execute_result"
    }
   ],
   "source": [
    "import torch\n",
    "from torchmetrics.functional import pairwise_cosine_similarity\n",
    "x = torch.from_numpy(embs)\n",
    "y = torch.from_numpy(embs)\n",
    "cos_sim = pairwise_cosine_similarity(x, y)\n",
    "similarity_score = (cos_sim + 1) / 2\n",
    "similarity_score"
   ]
  },
  {
   "cell_type": "code",
   "execution_count": 70,
   "metadata": {},
   "outputs": [
    {
     "data": {
      "text/plain": [
       "0.6849957406520844"
      ]
     },
     "execution_count": 70,
     "metadata": {},
     "output_type": "execute_result"
    }
   ],
   "source": [
    "from numpy import dot\n",
    "from numpy.linalg import norm\n",
    "import numpy as np\n",
    "\n",
    "# a = np.array([2, 3])\n",
    "# b = np.array([1, 0])\n",
    "a = embs[0]\n",
    "b = embs[1]\n",
    "cos_sim = dot(a, b)/(norm(a)*norm(b))\n",
    "\n",
    "similarity_score = (cos_sim + 1) / 2\n",
    "similarity_score"
   ]
  },
  {
   "cell_type": "code",
   "execution_count": 129,
   "metadata": {},
   "outputs": [
    {
     "name": "stdout",
     "output_type": "stream",
     "text": [
      "tensor([[1.0000, 0.6850, 0.6269,  ..., 0.4720, 0.5814, 0.5839],\n",
      "        [0.6850, 1.0000, 0.5817,  ..., 0.5754, 0.6009, 0.5841],\n",
      "        [0.6269, 0.5817, 1.0000,  ..., 0.5484, 0.5463, 0.6000],\n",
      "        ...,\n",
      "        [0.4720, 0.5754, 0.5484,  ..., 1.0000, 0.6117, 0.5661],\n",
      "        [0.5814, 0.6009, 0.5463,  ..., 0.6117, 1.0000, 0.7036],\n",
      "        [0.5839, 0.5841, 0.6000,  ..., 0.5661, 0.7036, 1.0000]])\n"
     ]
    }
   ],
   "source": [
    "import torch\n",
    "from torchmetrics.functional import pairwise_cosine_similarity\n",
    "embs = torch.from_numpy(embs)\n",
    "cosin_sim = pairwise_cosine_similarity(embs, embs)\n",
    "similarity_score = (cosin_sim + 1) / 2\n",
    "print(similarity_score)"
   ]
  },
  {
   "cell_type": "code",
   "execution_count": 133,
   "metadata": {},
   "outputs": [
    {
     "data": {
      "text/plain": [
       "tensor([[1.0000, 0.6438, 0.5568, 0.6101, 0.5715],\n",
       "        [0.6438, 1.0000, 0.5374, 0.6085, 0.5216],\n",
       "        [0.5568, 0.5374, 1.0000, 0.6117, 0.5661],\n",
       "        [0.6101, 0.6085, 0.6117, 1.0000, 0.7036],\n",
       "        [0.5715, 0.5216, 0.5661, 0.7036, 1.0000]])"
      ]
     },
     "execution_count": 133,
     "metadata": {},
     "output_type": "execute_result"
    }
   ],
   "source": [
    "similarity_score[190:, 190:]"
   ]
  },
  {
   "cell_type": "code",
   "execution_count": 71,
   "metadata": {},
   "outputs": [],
   "source": [
    "_embs1 = verification_model.get_embedding(\n",
    "    \"/home/tuyendv/Desktop/codes/ess_data_crawler_pipline/outputs/speaker_diarization/speaker_0/wav_0.rttm_speaker_0_0.wav\")\n",
    "\n",
    "_embs2 = verification_model.get_embedding(\n",
    "    \"/home/tuyendv/Desktop/codes/ess_data_crawler_pipline/outputs/speaker_diarization/speaker_0/wav_0.rttm_speaker_0_0.wav\")"
   ]
  },
  {
   "cell_type": "code",
   "execution_count": 72,
   "metadata": {},
   "outputs": [
    {
     "data": {
      "text/plain": [
       "tensor([[ 1.7670e-02, -3.4352e-01,  8.6713e-02, -2.8117e-02,  7.8431e-02,\n",
       "         -1.6679e-01, -1.0103e-01,  1.5043e-01,  2.6947e-01,  2.8312e-01,\n",
       "         -5.3565e-01, -1.6358e-01,  1.9985e-01, -3.7958e-01,  6.2543e-01,\n",
       "         -4.0281e-01,  6.3645e-01, -2.6868e-02, -3.4456e-02, -5.6311e-02,\n",
       "          2.0020e-01, -2.5885e-01, -2.3779e-02, -6.7199e-01,  4.3342e-01,\n",
       "          2.6027e-01, -6.3479e-01,  1.1432e-01,  2.2223e-01, -4.0906e-01,\n",
       "          1.1657e-02,  3.9485e-01, -1.8807e-02, -7.5467e-02, -3.3649e-01,\n",
       "         -5.3120e-01,  4.9089e-01, -4.6499e-01, -3.5212e-01,  3.6194e-01,\n",
       "         -3.8006e-01, -6.4640e-02, -1.6535e-01, -1.8004e-01, -2.1679e-01,\n",
       "          2.2369e-02, -2.6370e-01,  4.1147e-01,  1.6129e-01,  5.4755e-02,\n",
       "          2.2633e-01,  1.6895e-01,  3.7133e-01,  3.4853e-02, -2.0270e-02,\n",
       "         -2.7125e-01, -1.1679e-01,  3.5852e-01,  1.4446e-01,  2.0770e-01,\n",
       "         -7.1427e-02,  1.4939e-01, -1.7122e-01, -5.6010e-02,  1.5233e-01,\n",
       "         -3.5558e-01, -2.9836e-01,  5.6254e-01,  5.2404e-02, -2.9376e-01,\n",
       "         -3.1522e-02, -1.6384e-01, -1.3320e-01,  3.4353e-01, -3.1854e-02,\n",
       "         -4.0227e-04,  3.0525e-01, -2.3036e-01, -2.5260e-01, -3.4766e-01,\n",
       "         -2.8024e-01, -3.5964e-02,  1.4102e-01,  2.3624e-01, -1.6746e-01,\n",
       "          3.6426e-02, -6.5305e-01,  5.9207e-01,  6.3817e-02, -2.3691e-01,\n",
       "          2.7914e-02,  6.0723e-01, -3.4039e-01,  3.8796e-02,  2.1524e-01,\n",
       "         -2.2904e-01,  1.9217e-01,  3.0799e-01, -4.3437e-01,  1.0314e-02,\n",
       "         -2.1714e-01,  4.3449e-03,  5.4248e-01,  6.7698e-01, -1.6464e-02,\n",
       "          1.0866e-01, -2.8405e-03,  2.3001e-01, -1.2185e-01,  2.4784e-01,\n",
       "         -1.8293e-01,  2.8581e-01, -1.9834e-01, -1.1473e-01,  2.6995e-01,\n",
       "         -9.4068e-02, -4.3892e-02,  5.4011e-01, -4.8864e-01,  2.5010e-01,\n",
       "         -4.4081e-02,  5.3018e-01,  4.6523e-02, -1.5553e-01, -7.5644e-02,\n",
       "         -6.3974e-02,  1.2981e-01,  4.8035e-01, -1.1086e-02, -2.2704e-01,\n",
       "         -6.4567e-02, -6.5600e-02,  3.6722e-02,  4.0206e-01,  1.3268e-01,\n",
       "         -3.0705e-02,  1.7919e-02,  4.7917e-01, -1.6425e-01,  2.2838e-02,\n",
       "          1.1533e-02, -1.0478e-02,  7.5780e-02,  2.7528e-01, -3.5526e-02,\n",
       "         -5.1261e-01,  3.2039e-01, -3.1419e-01,  6.3023e-01,  2.5888e-01,\n",
       "         -2.6409e-01, -1.8690e-01, -1.7066e-01, -1.4018e-01,  1.0412e-01,\n",
       "         -4.6981e-01,  2.0256e-01, -4.6275e-01,  4.0594e-01, -5.2386e-01,\n",
       "          5.3446e-02,  4.7710e-01,  1.9920e-01,  5.2340e-01,  4.7889e-01,\n",
       "          6.6944e-03,  1.6846e-01,  1.8113e-01,  2.5243e-01, -5.0874e-01,\n",
       "         -2.4567e-01, -4.2798e-01, -1.1553e-01,  6.9371e-02,  9.2654e-03,\n",
       "         -4.5373e-01, -3.2086e-01,  5.8002e-01, -1.6407e-01, -3.6692e-01,\n",
       "         -2.3415e-01, -2.0063e-01, -6.3220e-02, -2.0752e-01,  7.2507e-02,\n",
       "          3.8251e-01, -2.8759e-01,  5.0750e-01,  1.2927e-01, -8.7537e-02,\n",
       "         -4.6467e-01, -7.6960e-02]])"
      ]
     },
     "execution_count": 72,
     "metadata": {},
     "output_type": "execute_result"
    }
   ],
   "source": [
    "_embs1 - embs[0]"
   ]
  },
  {
   "cell_type": "code",
   "execution_count": 55,
   "metadata": {},
   "outputs": [
    {
     "name": "stderr",
     "output_type": "stream",
     "text": [
      "100%|██████████| 195/195 [00:29<00:00,  6.67it/s]\n"
     ]
    }
   ],
   "source": [
    "for sample in tqdm(datas):\n",
    "    path = sample[\"audio_filepath\"]\n",
    "    _embs1 = verification_model.get_embedding(path)\n",
    "\n",
    "    if (embs[0] - _embs1.numpy()).sum() == 0:\n",
    "        print(path)"
   ]
  },
  {
   "cell_type": "code",
   "execution_count": 61,
   "metadata": {},
   "outputs": [
    {
     "data": {
      "text/plain": [
       "(192,)"
      ]
     },
     "execution_count": 61,
     "metadata": {},
     "output_type": "execute_result"
    }
   ],
   "source": [
    "embs[0].shape"
   ]
  },
  {
   "cell_type": "code",
   "execution_count": 63,
   "metadata": {},
   "outputs": [
    {
     "data": {
      "text/plain": [
       "(192,)"
      ]
     },
     "execution_count": 63,
     "metadata": {},
     "output_type": "execute_result"
    }
   ],
   "source": [
    "_embs1.numpy()[0].shape"
   ]
  },
  {
   "cell_type": "code",
   "execution_count": 34,
   "metadata": {},
   "outputs": [
    {
     "name": "stdout",
     "output_type": "stream",
     "text": [
      "tensor(0.6923)\n",
      "[NeMo I 2023-05-17 10:58:31 label_models:507]  two audio files are from same speaker\n"
     ]
    },
    {
     "data": {
      "text/plain": [
       "True"
      ]
     },
     "execution_count": 34,
     "metadata": {},
     "output_type": "execute_result"
    }
   ],
   "source": [
    "path_1 = \"/home/tuyendv/Desktop/codes/ess_data_crawler_pipline/outputs/speaker_diarization/speaker_0/wav_0.rttm_speaker_0_0.wav\"\n",
    "path_2 = \"/home/tuyendv/Desktop/codes/ess_data_crawler_pipline/outputs/speaker_diarization/speaker_0/wav_0.rttm_speaker_0_1.wav\"\n",
    "\n",
    "verification_model.verify_speakers(path_1, path_2, threshold=0.6)\n"
   ]
  },
  {
   "cell_type": "code",
   "execution_count": 31,
   "metadata": {},
   "outputs": [
    {
     "data": {
      "text/plain": [
       "tensor(0.6923)"
      ]
     },
     "execution_count": 31,
     "metadata": {},
     "output_type": "execute_result"
    }
   ],
   "source": [
    "embs1 = _embs1.squeeze()\n",
    "embs2 = _embs2.squeeze()\n",
    "\n",
    "X = embs1 / torch.linalg.norm(embs1)\n",
    "Y = embs2 / torch.linalg.norm(embs2)\n",
    "# Score\n",
    "similarity_score = torch.dot(X, Y) / ((torch.dot(X, X) * torch.dot(Y, Y)) ** 0.5)\n",
    "similarity_score = (similarity_score + 1) / 2\n",
    "similarity_score\n"
   ]
  },
  {
   "cell_type": "code",
   "execution_count": 125,
   "metadata": {},
   "outputs": [],
   "source": [
    "_embs1 =verification_model.get_embedding(\n",
    "    \"/home/tuyendv/Desktop/codes/ess_data_crawler_pipline/outputs/speaker_diarization/speaker_4/wav_2.rttm_speaker_4_8.wav\")\n",
    "\n",
    "_embs2 =verification_model.get_embedding(\n",
    "    \"/home/tuyendv/Desktop/codes/ess_data_crawler_pipline/outputs/speaker_diarization/speaker_4/wav_2.rttm_speaker_4_9.wav\")"
   ]
  },
  {
   "cell_type": "code",
   "execution_count": 126,
   "metadata": {},
   "outputs": [],
   "source": [
    "embs1 = _embs1\n",
    "embs2 = _embs2\n",
    "\n",
    "X = embs1 / torch.linalg.norm(embs1, dim=1)\n",
    "Y = embs2 / torch.linalg.norm(embs2, dim=1)"
   ]
  },
  {
   "cell_type": "code",
   "execution_count": 93,
   "metadata": {},
   "outputs": [
    {
     "ename": "RuntimeError",
     "evalue": "1D tensors expected, but got 2D and 2D tensors",
     "output_type": "error",
     "traceback": [
      "\u001b[0;31m---------------------------------------------------------------------------\u001b[0m",
      "\u001b[0;31mRuntimeError\u001b[0m                              Traceback (most recent call last)",
      "Cell \u001b[0;32mIn[93], line 1\u001b[0m\n\u001b[0;32m----> 1\u001b[0m torch\u001b[39m.\u001b[39mmatmul(X, Y\u001b[39m.\u001b[39mT) \u001b[39m/\u001b[39m ((torch\u001b[39m.\u001b[39;49mdot(X, X) \u001b[39m*\u001b[39m torch\u001b[39m.\u001b[39mdot(Y, Y)) \u001b[39m*\u001b[39m\u001b[39m*\u001b[39m \u001b[39m0.5\u001b[39m)\n",
      "\u001b[0;31mRuntimeError\u001b[0m: 1D tensors expected, but got 2D and 2D tensors"
     ]
    }
   ],
   "source": [
    "torch.matmul(X, Y.T) / ((torch.dot(X, X) * torch.dot(Y, Y)) ** 0.5)"
   ]
  },
  {
   "cell_type": "code",
   "execution_count": null,
   "metadata": {},
   "outputs": [],
   "source": [
    "similarity_score = torch.dot(X, Y) / ((torch.dot(X, X) * torch.dot(Y, Y)) ** 0.5)\n",
    "similarity_score = (similarity_score + 1) / 2\n"
   ]
  },
  {
   "cell_type": "code",
   "execution_count": 94,
   "metadata": {},
   "outputs": [
    {
     "name": "stderr",
     "output_type": "stream",
     "text": [
      "  0%|          | 0/10 [00:00<?, ?it/s]"
     ]
    },
    {
     "name": "stdout",
     "output_type": "stream",
     "text": [
      "tensor(0.6030)\n",
      "[NeMo I 2023-05-17 00:39:19 label_models:510]  two audio files are from different speakers\n",
      "tensor(0.6419)\n",
      "[NeMo I 2023-05-17 00:39:20 label_models:510]  two audio files are from different speakers\n",
      "tensor(0.6229)\n",
      "[NeMo I 2023-05-17 00:39:20 label_models:510]  two audio files are from different speakers\n",
      "tensor(0.6024)\n",
      "[NeMo I 2023-05-17 00:39:21 label_models:510]  two audio files are from different speakers\n",
      "tensor(0.6220)\n",
      "[NeMo I 2023-05-17 00:39:21 label_models:510]  two audio files are from different speakers\n",
      "tensor(0.7134)\n",
      "[NeMo I 2023-05-17 00:39:21 label_models:507]  two audio files are from same speaker\n",
      "tensor(0.6015)\n",
      "[NeMo I 2023-05-17 00:39:22 label_models:510]  two audio files are from different speakers\n",
      "tensor(0.7746)\n",
      "[NeMo I 2023-05-17 00:39:22 label_models:507]  two audio files are from same speaker\n",
      "tensor(0.6839)\n",
      "[NeMo I 2023-05-17 00:39:22 label_models:510]  two audio files are from different speakers\n",
      "tensor(0.6398)\n",
      "[NeMo I 2023-05-17 00:39:23 label_models:510]  two audio files are from different speakers\n",
      "tensor(0.6884)\n",
      "[NeMo I 2023-05-17 00:39:23 label_models:510]  two audio files are from different speakers\n",
      "tensor(0.6226)\n",
      "[NeMo I 2023-05-17 00:39:23 label_models:510]  two audio files are from different speakers\n",
      "tensor(0.6114)\n",
      "[NeMo I 2023-05-17 00:39:24 label_models:510]  two audio files are from different speakers\n",
      "tensor(0.6167)\n",
      "[NeMo I 2023-05-17 00:39:24 label_models:510]  two audio files are from different speakers\n",
      "tensor(0.6489)\n",
      "[NeMo I 2023-05-17 00:39:24 label_models:510]  two audio files are from different speakers\n",
      "tensor(0.6373)\n",
      "[NeMo I 2023-05-17 00:39:25 label_models:510]  two audio files are from different speakers\n",
      "tensor(0.6307)\n",
      "[NeMo I 2023-05-17 00:39:25 label_models:510]  two audio files are from different speakers\n",
      "tensor(0.6193)\n",
      "[NeMo I 2023-05-17 00:39:25 label_models:510]  two audio files are from different speakers\n",
      "tensor(0.5940)\n",
      "[NeMo I 2023-05-17 00:39:26 label_models:510]  two audio files are from different speakers\n",
      "tensor(0.6052)\n",
      "[NeMo I 2023-05-17 00:39:26 label_models:510]  two audio files are from different speakers\n",
      "tensor(0.7226)\n",
      "[NeMo I 2023-05-17 00:39:27 label_models:507]  two audio files are from same speaker\n",
      "tensor(0.6346)\n",
      "[NeMo I 2023-05-17 00:39:27 label_models:510]  two audio files are from different speakers\n",
      "tensor(0.7130)\n",
      "[NeMo I 2023-05-17 00:39:27 label_models:507]  two audio files are from same speaker\n",
      "tensor(0.6724)\n",
      "[NeMo I 2023-05-17 00:39:28 label_models:510]  two audio files are from different speakers\n",
      "tensor(0.5470)\n",
      "[NeMo I 2023-05-17 00:39:28 label_models:510]  two audio files are from different speakers\n",
      "tensor(0.5552)\n",
      "[NeMo I 2023-05-17 00:39:28 label_models:510]  two audio files are from different speakers\n",
      "tensor(0.5256)\n",
      "[NeMo I 2023-05-17 00:39:28 label_models:510]  two audio files are from different speakers\n",
      "tensor(0.5185)\n",
      "[NeMo I 2023-05-17 00:39:28 label_models:510]  two audio files are from different speakers\n",
      "tensor(0.4890)\n",
      "[NeMo I 2023-05-17 00:39:29 label_models:510]  two audio files are from different speakers\n",
      "tensor(0.5649)\n",
      "[NeMo I 2023-05-17 00:39:29 label_models:510]  two audio files are from different speakers\n",
      "tensor(0.4914)\n",
      "[NeMo I 2023-05-17 00:39:29 label_models:510]  two audio files are from different speakers\n",
      "tensor(0.5740)\n",
      "[NeMo I 2023-05-17 00:39:29 label_models:510]  two audio files are from different speakers\n",
      "tensor(0.6099)\n",
      "[NeMo I 2023-05-17 00:39:30 label_models:510]  two audio files are from different speakers\n",
      "tensor(0.6094)\n",
      "[NeMo I 2023-05-17 00:39:30 label_models:510]  two audio files are from different speakers\n",
      "tensor(0.6574)\n",
      "[NeMo I 2023-05-17 00:39:30 label_models:510]  two audio files are from different speakers\n",
      "tensor(0.5980)\n",
      "[NeMo I 2023-05-17 00:39:30 label_models:510]  two audio files are from different speakers\n"
     ]
    },
    {
     "name": "stderr",
     "output_type": "stream",
     "text": [
      " 10%|█         | 1/10 [00:11<01:45, 11.74s/it]"
     ]
    },
    {
     "name": "stdout",
     "output_type": "stream",
     "text": [
      "tensor(0.5774)\n",
      "[NeMo I 2023-05-17 00:39:31 label_models:510]  two audio files are from different speakers\n",
      "tensor(0.5574)\n",
      "[NeMo I 2023-05-17 00:39:31 label_models:510]  two audio files are from different speakers\n",
      "tensor(0.5956)\n",
      "[NeMo I 2023-05-17 00:39:31 label_models:510]  two audio files are from different speakers\n",
      "tensor(0.5941)\n",
      "[NeMo I 2023-05-17 00:39:31 label_models:510]  two audio files are from different speakers\n",
      "tensor(0.5520)\n",
      "[NeMo I 2023-05-17 00:39:32 label_models:510]  two audio files are from different speakers\n",
      "tensor(0.5192)\n",
      "[NeMo I 2023-05-17 00:39:32 label_models:510]  two audio files are from different speakers\n",
      "tensor(0.5341)\n",
      "[NeMo I 2023-05-17 00:39:32 label_models:510]  two audio files are from different speakers\n",
      "tensor(0.5795)\n",
      "[NeMo I 2023-05-17 00:39:32 label_models:510]  two audio files are from different speakers\n",
      "tensor(0.5858)\n",
      "[NeMo I 2023-05-17 00:39:33 label_models:510]  two audio files are from different speakers\n",
      "tensor(0.5693)\n",
      "[NeMo I 2023-05-17 00:39:33 label_models:510]  two audio files are from different speakers\n",
      "tensor(0.5197)\n",
      "[NeMo I 2023-05-17 00:39:33 label_models:510]  two audio files are from different speakers\n",
      "tensor(0.5566)\n",
      "[NeMo I 2023-05-17 00:39:33 label_models:510]  two audio files are from different speakers\n",
      "tensor(0.5505)\n",
      "[NeMo I 2023-05-17 00:39:34 label_models:510]  two audio files are from different speakers\n",
      "tensor(0.5906)\n",
      "[NeMo I 2023-05-17 00:39:34 label_models:510]  two audio files are from different speakers\n",
      "tensor(0.5265)\n",
      "[NeMo I 2023-05-17 00:39:34 label_models:510]  two audio files are from different speakers\n",
      "tensor(0.6175)\n",
      "[NeMo I 2023-05-17 00:39:35 label_models:510]  two audio files are from different speakers\n",
      "tensor(0.5312)\n",
      "[NeMo I 2023-05-17 00:39:35 label_models:510]  two audio files are from different speakers\n",
      "tensor(0.5086)\n",
      "[NeMo I 2023-05-17 00:39:35 label_models:510]  two audio files are from different speakers\n",
      "tensor(0.5965)\n",
      "[NeMo I 2023-05-17 00:39:35 label_models:510]  two audio files are from different speakers\n",
      "tensor(0.4822)\n",
      "[NeMo I 2023-05-17 00:39:36 label_models:510]  two audio files are from different speakers\n",
      "tensor(0.5897)\n",
      "[NeMo I 2023-05-17 00:39:36 label_models:510]  two audio files are from different speakers\n",
      "tensor(0.5628)\n",
      "[NeMo I 2023-05-17 00:39:36 label_models:510]  two audio files are from different speakers\n",
      "tensor(0.5707)\n",
      "[NeMo I 2023-05-17 00:39:36 label_models:510]  two audio files are from different speakers\n",
      "tensor(0.5630)\n",
      "[NeMo I 2023-05-17 00:39:37 label_models:510]  two audio files are from different speakers\n",
      "tensor(0.6474)\n",
      "[NeMo I 2023-05-17 00:39:37 label_models:510]  two audio files are from different speakers\n",
      "tensor(0.6065)\n",
      "[NeMo I 2023-05-17 00:39:37 label_models:510]  two audio files are from different speakers\n",
      "tensor(0.5274)\n",
      "[NeMo I 2023-05-17 00:39:37 label_models:510]  two audio files are from different speakers\n",
      "tensor(0.6109)\n",
      "[NeMo I 2023-05-17 00:39:38 label_models:510]  two audio files are from different speakers\n",
      "tensor(0.6338)\n",
      "[NeMo I 2023-05-17 00:39:38 label_models:510]  two audio files are from different speakers\n",
      "tensor(0.5630)\n",
      "[NeMo I 2023-05-17 00:39:38 label_models:510]  two audio files are from different speakers\n",
      "tensor(0.5969)\n",
      "[NeMo I 2023-05-17 00:39:38 label_models:510]  two audio files are from different speakers\n",
      "tensor(0.6403)\n",
      "[NeMo I 2023-05-17 00:39:39 label_models:510]  two audio files are from different speakers\n",
      "tensor(0.4402)\n",
      "[NeMo I 2023-05-17 00:39:39 label_models:510]  two audio files are from different speakers\n",
      "tensor(0.5710)\n",
      "[NeMo I 2023-05-17 00:39:39 label_models:510]  two audio files are from different speakers\n",
      "tensor(0.5302)\n",
      "[NeMo I 2023-05-17 00:39:39 label_models:510]  two audio files are from different speakers\n",
      "tensor(0.5823)\n",
      "[NeMo I 2023-05-17 00:39:40 label_models:510]  two audio files are from different speakers\n"
     ]
    },
    {
     "name": "stderr",
     "output_type": "stream",
     "text": [
      " 20%|██        | 2/10 [00:21<01:22, 10.36s/it]"
     ]
    },
    {
     "name": "stdout",
     "output_type": "stream",
     "text": [
      "tensor(0.5236)\n",
      "[NeMo I 2023-05-17 00:39:40 label_models:510]  two audio files are from different speakers\n",
      "tensor(0.5494)\n",
      "[NeMo I 2023-05-17 00:39:40 label_models:510]  two audio files are from different speakers\n",
      "tensor(0.6229)\n",
      "[NeMo I 2023-05-17 00:39:40 label_models:510]  two audio files are from different speakers\n",
      "tensor(0.5312)\n",
      "[NeMo I 2023-05-17 00:39:41 label_models:510]  two audio files are from different speakers\n",
      "tensor(0.5536)\n",
      "[NeMo I 2023-05-17 00:39:41 label_models:510]  two audio files are from different speakers\n",
      "tensor(0.5971)\n",
      "[NeMo I 2023-05-17 00:39:41 label_models:510]  two audio files are from different speakers\n",
      "tensor(0.5874)\n",
      "[NeMo I 2023-05-17 00:39:42 label_models:510]  two audio files are from different speakers\n",
      "tensor(0.7070)\n",
      "[NeMo I 2023-05-17 00:39:42 label_models:507]  two audio files are from same speaker\n",
      "tensor(0.6031)\n",
      "[NeMo I 2023-05-17 00:39:42 label_models:510]  two audio files are from different speakers\n",
      "tensor(0.5580)\n",
      "[NeMo I 2023-05-17 00:39:42 label_models:510]  two audio files are from different speakers\n",
      "tensor(0.5767)\n",
      "[NeMo I 2023-05-17 00:39:43 label_models:510]  two audio files are from different speakers\n",
      "tensor(0.5199)\n",
      "[NeMo I 2023-05-17 00:39:43 label_models:510]  two audio files are from different speakers\n",
      "tensor(0.6764)\n",
      "[NeMo I 2023-05-17 00:39:43 label_models:510]  two audio files are from different speakers\n",
      "tensor(0.5475)\n",
      "[NeMo I 2023-05-17 00:39:43 label_models:510]  two audio files are from different speakers\n",
      "tensor(0.6806)\n",
      "[NeMo I 2023-05-17 00:39:44 label_models:510]  two audio files are from different speakers\n",
      "tensor(0.5964)\n",
      "[NeMo I 2023-05-17 00:39:44 label_models:510]  two audio files are from different speakers\n",
      "tensor(0.5074)\n",
      "[NeMo I 2023-05-17 00:39:44 label_models:510]  two audio files are from different speakers\n",
      "tensor(0.5536)\n",
      "[NeMo I 2023-05-17 00:39:44 label_models:510]  two audio files are from different speakers\n",
      "tensor(0.6267)\n",
      "[NeMo I 2023-05-17 00:39:45 label_models:510]  two audio files are from different speakers\n",
      "tensor(0.4774)\n",
      "[NeMo I 2023-05-17 00:39:45 label_models:510]  two audio files are from different speakers\n",
      "tensor(0.5195)\n",
      "[NeMo I 2023-05-17 00:39:45 label_models:510]  two audio files are from different speakers\n",
      "tensor(0.5084)\n",
      "[NeMo I 2023-05-17 00:39:45 label_models:510]  two audio files are from different speakers\n",
      "tensor(0.4979)\n",
      "[NeMo I 2023-05-17 00:39:45 label_models:510]  two audio files are from different speakers\n",
      "tensor(0.5442)\n",
      "[NeMo I 2023-05-17 00:39:46 label_models:510]  two audio files are from different speakers\n",
      "tensor(0.5192)\n",
      "[NeMo I 2023-05-17 00:39:46 label_models:510]  two audio files are from different speakers\n",
      "tensor(0.5436)\n",
      "[NeMo I 2023-05-17 00:39:46 label_models:510]  two audio files are from different speakers\n",
      "tensor(0.6198)\n",
      "[NeMo I 2023-05-17 00:39:47 label_models:510]  two audio files are from different speakers\n",
      "tensor(0.5779)\n",
      "[NeMo I 2023-05-17 00:39:47 label_models:510]  two audio files are from different speakers\n"
     ]
    },
    {
     "name": "stderr",
     "output_type": "stream",
     "text": [
      " 30%|███       | 3/10 [00:28<01:02,  8.87s/it]"
     ]
    },
    {
     "name": "stdout",
     "output_type": "stream",
     "text": [
      "tensor(0.6751)\n",
      "[NeMo I 2023-05-17 00:39:47 label_models:510]  two audio files are from different speakers\n",
      "tensor(0.7216)\n",
      "[NeMo I 2023-05-17 00:39:47 label_models:507]  two audio files are from same speaker\n",
      "tensor(0.5858)\n",
      "[NeMo I 2023-05-17 00:39:48 label_models:510]  two audio files are from different speakers\n",
      "tensor(0.5956)\n",
      "[NeMo I 2023-05-17 00:39:48 label_models:510]  two audio files are from different speakers\n",
      "tensor(0.5667)\n",
      "[NeMo I 2023-05-17 00:39:48 label_models:510]  two audio files are from different speakers\n",
      "tensor(0.5776)\n",
      "[NeMo I 2023-05-17 00:39:48 label_models:510]  two audio files are from different speakers\n",
      "tensor(0.5483)\n",
      "[NeMo I 2023-05-17 00:39:49 label_models:510]  two audio files are from different speakers\n",
      "tensor(0.6002)\n",
      "[NeMo I 2023-05-17 00:39:49 label_models:510]  two audio files are from different speakers\n",
      "tensor(0.6776)\n",
      "[NeMo I 2023-05-17 00:39:49 label_models:510]  two audio files are from different speakers\n",
      "tensor(0.6032)\n",
      "[NeMo I 2023-05-17 00:39:49 label_models:510]  two audio files are from different speakers\n",
      "tensor(0.7203)\n",
      "[NeMo I 2023-05-17 00:39:50 label_models:507]  two audio files are from same speaker\n",
      "tensor(0.6640)\n",
      "[NeMo I 2023-05-17 00:39:50 label_models:510]  two audio files are from different speakers\n",
      "tensor(0.5813)\n",
      "[NeMo I 2023-05-17 00:39:50 label_models:510]  two audio files are from different speakers\n",
      "tensor(0.5959)\n",
      "[NeMo I 2023-05-17 00:39:51 label_models:510]  two audio files are from different speakers\n",
      "tensor(0.7038)\n",
      "[NeMo I 2023-05-17 00:39:51 label_models:507]  two audio files are from same speaker\n",
      "tensor(0.6033)\n",
      "[NeMo I 2023-05-17 00:39:51 label_models:510]  two audio files are from different speakers\n",
      "tensor(0.6902)\n",
      "[NeMo I 2023-05-17 00:39:51 label_models:510]  two audio files are from different speakers\n",
      "tensor(0.6788)\n",
      "[NeMo I 2023-05-17 00:39:52 label_models:510]  two audio files are from different speakers\n",
      "tensor(0.6730)\n",
      "[NeMo I 2023-05-17 00:39:52 label_models:510]  two audio files are from different speakers\n",
      "tensor(0.6763)\n",
      "[NeMo I 2023-05-17 00:39:52 label_models:510]  two audio files are from different speakers\n",
      "tensor(0.6425)\n",
      "[NeMo I 2023-05-17 00:39:53 label_models:510]  two audio files are from different speakers\n",
      "tensor(0.6618)\n",
      "[NeMo I 2023-05-17 00:39:53 label_models:510]  two audio files are from different speakers\n",
      "tensor(0.6352)\n",
      "[NeMo I 2023-05-17 00:39:53 label_models:510]  two audio files are from different speakers\n",
      "tensor(0.6157)\n",
      "[NeMo I 2023-05-17 00:39:54 label_models:510]  two audio files are from different speakers\n",
      "tensor(0.5724)\n",
      "[NeMo I 2023-05-17 00:39:54 label_models:510]  two audio files are from different speakers\n",
      "tensor(0.5930)\n",
      "[NeMo I 2023-05-17 00:39:54 label_models:510]  two audio files are from different speakers\n",
      "tensor(0.6059)\n",
      "[NeMo I 2023-05-17 00:39:55 label_models:510]  two audio files are from different speakers\n",
      "tensor(0.5883)\n",
      "[NeMo I 2023-05-17 00:39:55 label_models:510]  two audio files are from different speakers\n",
      "tensor(0.5372)\n",
      "[NeMo I 2023-05-17 00:39:56 label_models:510]  two audio files are from different speakers\n",
      "tensor(0.6015)\n",
      "[NeMo I 2023-05-17 00:39:56 label_models:510]  two audio files are from different speakers\n",
      "tensor(0.5497)\n",
      "[NeMo I 2023-05-17 00:39:56 label_models:510]  two audio files are from different speakers\n",
      "tensor(0.5526)\n",
      "[NeMo I 2023-05-17 00:39:56 label_models:510]  two audio files are from different speakers\n",
      "tensor(0.5773)\n",
      "[NeMo I 2023-05-17 00:39:57 label_models:510]  two audio files are from different speakers\n",
      "tensor(0.4895)\n",
      "[NeMo I 2023-05-17 00:39:57 label_models:510]  two audio files are from different speakers\n",
      "tensor(0.4976)\n",
      "[NeMo I 2023-05-17 00:39:57 label_models:510]  two audio files are from different speakers\n",
      "tensor(0.5222)\n",
      "[NeMo I 2023-05-17 00:39:58 label_models:510]  two audio files are from different speakers\n"
     ]
    },
    {
     "name": "stderr",
     "output_type": "stream",
     "text": [
      " 40%|████      | 4/10 [00:39<00:58,  9.67s/it]"
     ]
    },
    {
     "name": "stdout",
     "output_type": "stream",
     "text": [
      "tensor(0.5573)\n",
      "[NeMo I 2023-05-17 00:39:58 label_models:510]  two audio files are from different speakers\n",
      "tensor(0.5341)\n",
      "[NeMo I 2023-05-17 00:39:58 label_models:510]  two audio files are from different speakers\n",
      "tensor(0.5931)\n",
      "[NeMo I 2023-05-17 00:39:58 label_models:510]  two audio files are from different speakers\n",
      "tensor(0.5678)\n",
      "[NeMo I 2023-05-17 00:39:59 label_models:510]  two audio files are from different speakers\n",
      "tensor(0.5361)\n",
      "[NeMo I 2023-05-17 00:39:59 label_models:510]  two audio files are from different speakers\n",
      "tensor(0.5397)\n",
      "[NeMo I 2023-05-17 00:39:59 label_models:510]  two audio files are from different speakers\n",
      "tensor(0.5226)\n",
      "[NeMo I 2023-05-17 00:39:59 label_models:510]  two audio files are from different speakers\n",
      "tensor(0.6285)\n",
      "[NeMo I 2023-05-17 00:40:00 label_models:510]  two audio files are from different speakers\n",
      "tensor(0.5355)\n",
      "[NeMo I 2023-05-17 00:40:00 label_models:510]  two audio files are from different speakers\n",
      "tensor(0.5503)\n",
      "[NeMo I 2023-05-17 00:40:00 label_models:510]  two audio files are from different speakers\n",
      "tensor(0.5690)\n",
      "[NeMo I 2023-05-17 00:40:00 label_models:510]  two audio files are from different speakers\n",
      "tensor(0.5802)\n",
      "[NeMo I 2023-05-17 00:40:01 label_models:510]  two audio files are from different speakers\n",
      "tensor(0.5388)\n",
      "[NeMo I 2023-05-17 00:40:01 label_models:510]  two audio files are from different speakers\n",
      "tensor(0.5363)\n",
      "[NeMo I 2023-05-17 00:40:01 label_models:510]  two audio files are from different speakers\n",
      "tensor(0.5680)\n",
      "[NeMo I 2023-05-17 00:40:01 label_models:510]  two audio files are from different speakers\n",
      "tensor(0.5845)\n",
      "[NeMo I 2023-05-17 00:40:02 label_models:510]  two audio files are from different speakers\n",
      "tensor(0.5562)\n",
      "[NeMo I 2023-05-17 00:40:02 label_models:510]  two audio files are from different speakers\n",
      "tensor(0.5695)\n",
      "[NeMo I 2023-05-17 00:40:02 label_models:510]  two audio files are from different speakers\n",
      "tensor(0.5634)\n",
      "[NeMo I 2023-05-17 00:40:03 label_models:510]  two audio files are from different speakers\n",
      "tensor(0.6453)\n",
      "[NeMo I 2023-05-17 00:40:03 label_models:510]  two audio files are from different speakers\n",
      "tensor(0.5427)\n",
      "[NeMo I 2023-05-17 00:40:03 label_models:510]  two audio files are from different speakers\n",
      "tensor(0.5193)\n",
      "[NeMo I 2023-05-17 00:40:04 label_models:510]  two audio files are from different speakers\n",
      "tensor(0.6272)\n",
      "[NeMo I 2023-05-17 00:40:04 label_models:510]  two audio files are from different speakers\n",
      "tensor(0.5571)\n",
      "[NeMo I 2023-05-17 00:40:05 label_models:510]  two audio files are from different speakers\n",
      "tensor(0.5496)\n",
      "[NeMo I 2023-05-17 00:40:05 label_models:510]  two audio files are from different speakers\n",
      "tensor(0.5498)\n",
      "[NeMo I 2023-05-17 00:40:05 label_models:510]  two audio files are from different speakers\n",
      "tensor(0.5843)\n",
      "[NeMo I 2023-05-17 00:40:05 label_models:510]  two audio files are from different speakers\n",
      "tensor(0.6103)\n",
      "[NeMo I 2023-05-17 00:40:06 label_models:510]  two audio files are from different speakers\n",
      "tensor(0.5364)\n",
      "[NeMo I 2023-05-17 00:40:06 label_models:510]  two audio files are from different speakers\n",
      "tensor(0.5873)\n",
      "[NeMo I 2023-05-17 00:40:06 label_models:510]  two audio files are from different speakers\n",
      "tensor(0.5666)\n",
      "[NeMo I 2023-05-17 00:40:06 label_models:510]  two audio files are from different speakers\n",
      "tensor(0.5403)\n",
      "[NeMo I 2023-05-17 00:40:07 label_models:510]  two audio files are from different speakers\n",
      "tensor(0.5279)\n",
      "[NeMo I 2023-05-17 00:40:07 label_models:510]  two audio files are from different speakers\n",
      "tensor(0.5062)\n",
      "[NeMo I 2023-05-17 00:40:07 label_models:510]  two audio files are from different speakers\n",
      "tensor(0.5499)\n",
      "[NeMo I 2023-05-17 00:40:07 label_models:510]  two audio files are from different speakers\n",
      "tensor(0.5776)\n",
      "[NeMo I 2023-05-17 00:40:07 label_models:510]  two audio files are from different speakers\n"
     ]
    },
    {
     "name": "stderr",
     "output_type": "stream",
     "text": [
      " 50%|█████     | 5/10 [00:48<00:48,  9.66s/it]"
     ]
    },
    {
     "name": "stdout",
     "output_type": "stream",
     "text": [
      "tensor(0.6169)\n",
      "[NeMo I 2023-05-17 00:40:08 label_models:510]  two audio files are from different speakers\n",
      "tensor(0.5423)\n",
      "[NeMo I 2023-05-17 00:40:08 label_models:510]  two audio files are from different speakers\n",
      "tensor(0.5921)\n",
      "[NeMo I 2023-05-17 00:40:08 label_models:510]  two audio files are from different speakers\n",
      "tensor(0.5805)\n",
      "[NeMo I 2023-05-17 00:40:08 label_models:510]  two audio files are from different speakers\n",
      "tensor(0.5230)\n",
      "[NeMo I 2023-05-17 00:40:09 label_models:510]  two audio files are from different speakers\n",
      "tensor(0.5489)\n",
      "[NeMo I 2023-05-17 00:40:09 label_models:510]  two audio files are from different speakers\n",
      "tensor(0.5633)\n",
      "[NeMo I 2023-05-17 00:40:09 label_models:510]  two audio files are from different speakers\n",
      "tensor(0.6437)\n",
      "[NeMo I 2023-05-17 00:40:09 label_models:510]  two audio files are from different speakers\n",
      "tensor(0.5954)\n",
      "[NeMo I 2023-05-17 00:40:10 label_models:510]  two audio files are from different speakers\n",
      "tensor(0.5905)\n",
      "[NeMo I 2023-05-17 00:40:10 label_models:510]  two audio files are from different speakers\n",
      "tensor(0.6166)\n",
      "[NeMo I 2023-05-17 00:40:10 label_models:510]  two audio files are from different speakers\n",
      "tensor(0.6445)\n",
      "[NeMo I 2023-05-17 00:40:11 label_models:510]  two audio files are from different speakers\n",
      "tensor(0.5673)\n",
      "[NeMo I 2023-05-17 00:40:11 label_models:510]  two audio files are from different speakers\n",
      "tensor(0.6738)\n",
      "[NeMo I 2023-05-17 00:40:11 label_models:510]  two audio files are from different speakers\n",
      "tensor(0.6464)\n",
      "[NeMo I 2023-05-17 00:40:11 label_models:510]  two audio files are from different speakers\n",
      "tensor(0.6302)\n",
      "[NeMo I 2023-05-17 00:40:12 label_models:510]  two audio files are from different speakers\n",
      "tensor(0.6592)\n",
      "[NeMo I 2023-05-17 00:40:12 label_models:510]  two audio files are from different speakers\n",
      "tensor(0.5439)\n",
      "[NeMo I 2023-05-17 00:40:12 label_models:510]  two audio files are from different speakers\n",
      "tensor(0.6302)\n",
      "[NeMo I 2023-05-17 00:40:13 label_models:510]  two audio files are from different speakers\n",
      "tensor(0.6225)\n",
      "[NeMo I 2023-05-17 00:40:13 label_models:510]  two audio files are from different speakers\n",
      "tensor(0.5885)\n",
      "[NeMo I 2023-05-17 00:40:13 label_models:510]  two audio files are from different speakers\n",
      "tensor(0.5159)\n",
      "[NeMo I 2023-05-17 00:40:13 label_models:510]  two audio files are from different speakers\n",
      "tensor(0.5882)\n",
      "[NeMo I 2023-05-17 00:40:14 label_models:510]  two audio files are from different speakers\n",
      "tensor(0.5022)\n",
      "[NeMo I 2023-05-17 00:40:14 label_models:510]  two audio files are from different speakers\n",
      "tensor(0.5640)\n",
      "[NeMo I 2023-05-17 00:40:14 label_models:510]  two audio files are from different speakers\n",
      "tensor(0.4731)\n",
      "[NeMo I 2023-05-17 00:40:14 label_models:510]  two audio files are from different speakers\n",
      "tensor(0.5632)\n",
      "[NeMo I 2023-05-17 00:40:15 label_models:510]  two audio files are from different speakers\n",
      "tensor(0.5807)\n",
      "[NeMo I 2023-05-17 00:40:15 label_models:510]  two audio files are from different speakers\n",
      "tensor(0.5959)\n",
      "[NeMo I 2023-05-17 00:40:15 label_models:510]  two audio files are from different speakers\n",
      "tensor(0.5825)\n",
      "[NeMo I 2023-05-17 00:40:15 label_models:510]  two audio files are from different speakers\n",
      "tensor(0.6375)\n",
      "[NeMo I 2023-05-17 00:40:16 label_models:510]  two audio files are from different speakers\n",
      "tensor(0.6169)\n",
      "[NeMo I 2023-05-17 00:40:16 label_models:510]  two audio files are from different speakers\n",
      "tensor(0.5069)\n",
      "[NeMo I 2023-05-17 00:40:16 label_models:510]  two audio files are from different speakers\n",
      "tensor(0.5842)\n",
      "[NeMo I 2023-05-17 00:40:16 label_models:510]  two audio files are from different speakers\n",
      "tensor(0.6426)\n",
      "[NeMo I 2023-05-17 00:40:16 label_models:510]  two audio files are from different speakers\n",
      "tensor(0.5935)\n",
      "[NeMo I 2023-05-17 00:40:17 label_models:510]  two audio files are from different speakers\n"
     ]
    },
    {
     "name": "stderr",
     "output_type": "stream",
     "text": [
      " 60%|██████    | 6/10 [00:58<00:38,  9.55s/it]"
     ]
    },
    {
     "name": "stdout",
     "output_type": "stream",
     "text": [
      "tensor(0.5169)\n",
      "[NeMo I 2023-05-17 00:40:17 label_models:510]  two audio files are from different speakers\n",
      "tensor(0.5685)\n",
      "[NeMo I 2023-05-17 00:40:17 label_models:510]  two audio files are from different speakers\n",
      "tensor(0.4944)\n",
      "[NeMo I 2023-05-17 00:40:17 label_models:510]  two audio files are from different speakers\n",
      "tensor(0.6203)\n",
      "[NeMo I 2023-05-17 00:40:18 label_models:510]  two audio files are from different speakers\n",
      "tensor(0.6327)\n",
      "[NeMo I 2023-05-17 00:40:18 label_models:510]  two audio files are from different speakers\n",
      "tensor(0.5960)\n",
      "[NeMo I 2023-05-17 00:40:18 label_models:510]  two audio files are from different speakers\n",
      "tensor(0.7003)\n",
      "[NeMo I 2023-05-17 00:40:19 label_models:507]  two audio files are from same speaker\n",
      "tensor(0.6448)\n",
      "[NeMo I 2023-05-17 00:40:19 label_models:510]  two audio files are from different speakers\n",
      "tensor(0.6096)\n",
      "[NeMo I 2023-05-17 00:40:19 label_models:510]  two audio files are from different speakers\n",
      "tensor(0.6131)\n",
      "[NeMo I 2023-05-17 00:40:19 label_models:510]  two audio files are from different speakers\n",
      "tensor(0.5841)\n",
      "[NeMo I 2023-05-17 00:40:20 label_models:510]  two audio files are from different speakers\n",
      "tensor(0.6484)\n",
      "[NeMo I 2023-05-17 00:40:20 label_models:510]  two audio files are from different speakers\n",
      "tensor(0.5973)\n",
      "[NeMo I 2023-05-17 00:40:20 label_models:510]  two audio files are from different speakers\n",
      "tensor(0.6000)\n",
      "[NeMo I 2023-05-17 00:40:21 label_models:510]  two audio files are from different speakers\n",
      "tensor(0.6070)\n",
      "[NeMo I 2023-05-17 00:40:21 label_models:510]  two audio files are from different speakers\n",
      "tensor(0.5808)\n",
      "[NeMo I 2023-05-17 00:40:21 label_models:510]  two audio files are from different speakers\n",
      "tensor(0.5736)\n",
      "[NeMo I 2023-05-17 00:40:22 label_models:510]  two audio files are from different speakers\n",
      "tensor(0.6341)\n",
      "[NeMo I 2023-05-17 00:40:22 label_models:510]  two audio files are from different speakers\n",
      "tensor(0.5195)\n",
      "[NeMo I 2023-05-17 00:40:22 label_models:510]  two audio files are from different speakers\n",
      "tensor(0.6556)\n",
      "[NeMo I 2023-05-17 00:40:22 label_models:510]  two audio files are from different speakers\n",
      "tensor(0.6017)\n",
      "[NeMo I 2023-05-17 00:40:23 label_models:510]  two audio files are from different speakers\n",
      "tensor(0.5717)\n",
      "[NeMo I 2023-05-17 00:40:23 label_models:510]  two audio files are from different speakers\n",
      "tensor(0.5139)\n",
      "[NeMo I 2023-05-17 00:40:23 label_models:510]  two audio files are from different speakers\n",
      "tensor(0.5749)\n",
      "[NeMo I 2023-05-17 00:40:23 label_models:510]  two audio files are from different speakers\n",
      "tensor(0.6240)\n",
      "[NeMo I 2023-05-17 00:40:24 label_models:510]  two audio files are from different speakers\n",
      "tensor(0.6283)\n",
      "[NeMo I 2023-05-17 00:40:24 label_models:510]  two audio files are from different speakers\n",
      "tensor(0.6384)\n",
      "[NeMo I 2023-05-17 00:40:24 label_models:510]  two audio files are from different speakers\n",
      "tensor(0.6009)\n",
      "[NeMo I 2023-05-17 00:40:24 label_models:510]  two audio files are from different speakers\n"
     ]
    },
    {
     "name": "stderr",
     "output_type": "stream",
     "text": [
      " 70%|███████   | 7/10 [01:05<00:26,  8.93s/it]"
     ]
    },
    {
     "name": "stdout",
     "output_type": "stream",
     "text": [
      "tensor(0.4966)\n",
      "[NeMo I 2023-05-17 00:40:25 label_models:510]  two audio files are from different speakers\n",
      "tensor(0.5506)\n",
      "[NeMo I 2023-05-17 00:40:25 label_models:510]  two audio files are from different speakers\n",
      "tensor(0.5200)\n",
      "[NeMo I 2023-05-17 00:40:25 label_models:510]  two audio files are from different speakers\n",
      "tensor(0.5213)\n",
      "[NeMo I 2023-05-17 00:40:25 label_models:510]  two audio files are from different speakers\n",
      "tensor(0.4994)\n",
      "[NeMo I 2023-05-17 00:40:26 label_models:510]  two audio files are from different speakers\n",
      "tensor(0.5188)\n",
      "[NeMo I 2023-05-17 00:40:26 label_models:510]  two audio files are from different speakers\n",
      "tensor(0.6094)\n",
      "[NeMo I 2023-05-17 00:40:26 label_models:510]  two audio files are from different speakers\n",
      "tensor(0.6279)\n",
      "[NeMo I 2023-05-17 00:40:26 label_models:510]  two audio files are from different speakers\n",
      "tensor(0.5200)\n",
      "[NeMo I 2023-05-17 00:40:27 label_models:510]  two audio files are from different speakers\n",
      "tensor(0.5583)\n",
      "[NeMo I 2023-05-17 00:40:27 label_models:510]  two audio files are from different speakers\n",
      "tensor(0.5223)\n",
      "[NeMo I 2023-05-17 00:40:27 label_models:510]  two audio files are from different speakers\n",
      "tensor(0.5461)\n",
      "[NeMo I 2023-05-17 00:40:28 label_models:510]  two audio files are from different speakers\n",
      "tensor(0.5436)\n",
      "[NeMo I 2023-05-17 00:40:28 label_models:510]  two audio files are from different speakers\n",
      "tensor(0.5798)\n",
      "[NeMo I 2023-05-17 00:40:28 label_models:510]  two audio files are from different speakers\n",
      "tensor(0.6098)\n",
      "[NeMo I 2023-05-17 00:40:28 label_models:510]  two audio files are from different speakers\n",
      "tensor(0.6098)\n",
      "[NeMo I 2023-05-17 00:40:29 label_models:510]  two audio files are from different speakers\n",
      "tensor(0.5433)\n",
      "[NeMo I 2023-05-17 00:40:29 label_models:510]  two audio files are from different speakers\n",
      "tensor(0.4928)\n",
      "[NeMo I 2023-05-17 00:40:29 label_models:510]  two audio files are from different speakers\n",
      "tensor(0.5554)\n",
      "[NeMo I 2023-05-17 00:40:30 label_models:510]  two audio files are from different speakers\n",
      "tensor(0.6209)\n",
      "[NeMo I 2023-05-17 00:40:30 label_models:510]  two audio files are from different speakers\n",
      "tensor(0.4718)\n",
      "[NeMo I 2023-05-17 00:40:30 label_models:510]  two audio files are from different speakers\n",
      "tensor(0.4965)\n",
      "[NeMo I 2023-05-17 00:40:31 label_models:510]  two audio files are from different speakers\n",
      "tensor(0.4988)\n",
      "[NeMo I 2023-05-17 00:40:31 label_models:510]  two audio files are from different speakers\n",
      "tensor(0.5584)\n",
      "[NeMo I 2023-05-17 00:40:31 label_models:510]  two audio files are from different speakers\n",
      "tensor(0.4820)\n",
      "[NeMo I 2023-05-17 00:40:31 label_models:510]  two audio files are from different speakers\n",
      "tensor(0.4763)\n",
      "[NeMo I 2023-05-17 00:40:32 label_models:510]  two audio files are from different speakers\n",
      "tensor(0.5912)\n",
      "[NeMo I 2023-05-17 00:40:32 label_models:510]  two audio files are from different speakers\n",
      "tensor(0.5903)\n",
      "[NeMo I 2023-05-17 00:40:32 label_models:510]  two audio files are from different speakers\n",
      "tensor(0.5462)\n",
      "[NeMo I 2023-05-17 00:40:33 label_models:510]  two audio files are from different speakers\n",
      "tensor(0.5491)\n",
      "[NeMo I 2023-05-17 00:40:33 label_models:510]  two audio files are from different speakers\n",
      "tensor(0.5663)\n",
      "[NeMo I 2023-05-17 00:40:33 label_models:510]  two audio files are from different speakers\n",
      "tensor(0.5852)\n",
      "[NeMo I 2023-05-17 00:40:33 label_models:510]  two audio files are from different speakers\n",
      "tensor(0.6047)\n",
      "[NeMo I 2023-05-17 00:40:34 label_models:510]  two audio files are from different speakers\n",
      "tensor(0.5637)\n",
      "[NeMo I 2023-05-17 00:40:34 label_models:510]  two audio files are from different speakers\n",
      "tensor(0.6338)\n",
      "[NeMo I 2023-05-17 00:40:34 label_models:510]  two audio files are from different speakers\n",
      "tensor(0.5339)\n",
      "[NeMo I 2023-05-17 00:40:35 label_models:510]  two audio files are from different speakers\n"
     ]
    },
    {
     "name": "stderr",
     "output_type": "stream",
     "text": [
      " 80%|████████  | 8/10 [01:15<00:18,  9.33s/it]"
     ]
    },
    {
     "name": "stdout",
     "output_type": "stream",
     "text": [
      "tensor(0.6111)\n",
      "[NeMo I 2023-05-17 00:40:35 label_models:510]  two audio files are from different speakers\n",
      "tensor(0.5447)\n",
      "[NeMo I 2023-05-17 00:40:35 label_models:510]  two audio files are from different speakers\n",
      "tensor(0.5288)\n",
      "[NeMo I 2023-05-17 00:40:35 label_models:510]  two audio files are from different speakers\n",
      "tensor(0.5552)\n",
      "[NeMo I 2023-05-17 00:40:36 label_models:510]  two audio files are from different speakers\n",
      "tensor(0.6137)\n",
      "[NeMo I 2023-05-17 00:40:36 label_models:510]  two audio files are from different speakers\n",
      "tensor(0.5816)\n",
      "[NeMo I 2023-05-17 00:40:36 label_models:510]  two audio files are from different speakers\n",
      "tensor(0.4668)\n",
      "[NeMo I 2023-05-17 00:40:36 label_models:510]  two audio files are from different speakers\n",
      "tensor(0.5852)\n",
      "[NeMo I 2023-05-17 00:40:37 label_models:510]  two audio files are from different speakers\n",
      "tensor(0.5348)\n",
      "[NeMo I 2023-05-17 00:40:37 label_models:510]  two audio files are from different speakers\n",
      "tensor(0.5667)\n",
      "[NeMo I 2023-05-17 00:40:37 label_models:510]  two audio files are from different speakers\n",
      "tensor(0.6253)\n",
      "[NeMo I 2023-05-17 00:40:37 label_models:510]  two audio files are from different speakers\n",
      "tensor(0.5503)\n",
      "[NeMo I 2023-05-17 00:40:38 label_models:510]  two audio files are from different speakers\n",
      "tensor(0.5345)\n",
      "[NeMo I 2023-05-17 00:40:38 label_models:510]  two audio files are from different speakers\n",
      "tensor(0.5257)\n",
      "[NeMo I 2023-05-17 00:40:38 label_models:510]  two audio files are from different speakers\n",
      "tensor(0.5853)\n",
      "[NeMo I 2023-05-17 00:40:38 label_models:510]  two audio files are from different speakers\n",
      "tensor(0.5461)\n",
      "[NeMo I 2023-05-17 00:40:39 label_models:510]  two audio files are from different speakers\n",
      "tensor(0.5209)\n",
      "[NeMo I 2023-05-17 00:40:39 label_models:510]  two audio files are from different speakers\n",
      "tensor(0.6021)\n",
      "[NeMo I 2023-05-17 00:40:39 label_models:510]  two audio files are from different speakers\n",
      "tensor(0.6085)\n",
      "[NeMo I 2023-05-17 00:40:39 label_models:510]  two audio files are from different speakers\n",
      "tensor(0.6709)\n",
      "[NeMo I 2023-05-17 00:40:40 label_models:510]  two audio files are from different speakers\n",
      "tensor(0.5649)\n",
      "[NeMo I 2023-05-17 00:40:40 label_models:510]  two audio files are from different speakers\n",
      "tensor(0.5764)\n",
      "[NeMo I 2023-05-17 00:40:40 label_models:510]  two audio files are from different speakers\n",
      "tensor(0.5515)\n",
      "[NeMo I 2023-05-17 00:40:40 label_models:510]  two audio files are from different speakers\n",
      "tensor(0.5727)\n",
      "[NeMo I 2023-05-17 00:40:41 label_models:510]  two audio files are from different speakers\n",
      "tensor(0.5394)\n",
      "[NeMo I 2023-05-17 00:40:41 label_models:510]  two audio files are from different speakers\n",
      "tensor(0.5323)\n",
      "[NeMo I 2023-05-17 00:40:41 label_models:510]  two audio files are from different speakers\n",
      "tensor(0.5238)\n",
      "[NeMo I 2023-05-17 00:40:41 label_models:510]  two audio files are from different speakers\n",
      "tensor(0.5672)\n",
      "[NeMo I 2023-05-17 00:40:42 label_models:510]  two audio files are from different speakers\n",
      "tensor(0.6232)\n",
      "[NeMo I 2023-05-17 00:40:42 label_models:510]  two audio files are from different speakers\n",
      "tensor(0.6303)\n",
      "[NeMo I 2023-05-17 00:40:42 label_models:510]  two audio files are from different speakers\n",
      "tensor(0.6429)\n",
      "[NeMo I 2023-05-17 00:40:42 label_models:510]  two audio files are from different speakers\n",
      "tensor(0.5630)\n",
      "[NeMo I 2023-05-17 00:40:43 label_models:510]  two audio files are from different speakers\n",
      "tensor(0.6256)\n",
      "[NeMo I 2023-05-17 00:40:43 label_models:510]  two audio files are from different speakers\n",
      "tensor(0.6027)\n",
      "[NeMo I 2023-05-17 00:40:43 label_models:510]  two audio files are from different speakers\n",
      "tensor(0.6582)\n",
      "[NeMo I 2023-05-17 00:40:43 label_models:510]  two audio files are from different speakers\n",
      "tensor(0.6263)\n",
      "[NeMo I 2023-05-17 00:40:44 label_models:510]  two audio files are from different speakers\n"
     ]
    },
    {
     "name": "stderr",
     "output_type": "stream",
     "text": [
      " 90%|█████████ | 9/10 [01:25<00:09,  9.26s/it]"
     ]
    },
    {
     "name": "stdout",
     "output_type": "stream",
     "text": [
      "tensor(0.5078)\n",
      "[NeMo I 2023-05-17 00:40:44 label_models:510]  two audio files are from different speakers\n",
      "tensor(0.5596)\n",
      "[NeMo I 2023-05-17 00:40:44 label_models:510]  two audio files are from different speakers\n",
      "tensor(0.5747)\n",
      "[NeMo I 2023-05-17 00:40:45 label_models:510]  two audio files are from different speakers\n",
      "tensor(0.5575)\n",
      "[NeMo I 2023-05-17 00:40:45 label_models:510]  two audio files are from different speakers\n",
      "tensor(0.5019)\n",
      "[NeMo I 2023-05-17 00:40:45 label_models:510]  two audio files are from different speakers\n",
      "tensor(0.5875)\n",
      "[NeMo I 2023-05-17 00:40:45 label_models:510]  two audio files are from different speakers\n",
      "tensor(0.4941)\n",
      "[NeMo I 2023-05-17 00:40:46 label_models:510]  two audio files are from different speakers\n",
      "tensor(0.6024)\n",
      "[NeMo I 2023-05-17 00:40:46 label_models:510]  two audio files are from different speakers\n",
      "tensor(0.5674)\n",
      "[NeMo I 2023-05-17 00:40:46 label_models:510]  two audio files are from different speakers\n",
      "tensor(0.5415)\n",
      "[NeMo I 2023-05-17 00:40:46 label_models:510]  two audio files are from different speakers\n",
      "tensor(0.5375)\n",
      "[NeMo I 2023-05-17 00:40:47 label_models:510]  two audio files are from different speakers\n",
      "tensor(0.5657)\n",
      "[NeMo I 2023-05-17 00:40:47 label_models:510]  two audio files are from different speakers\n",
      "tensor(0.5572)\n",
      "[NeMo I 2023-05-17 00:40:47 label_models:510]  two audio files are from different speakers\n",
      "tensor(0.5489)\n",
      "[NeMo I 2023-05-17 00:40:47 label_models:510]  two audio files are from different speakers\n",
      "tensor(0.5313)\n",
      "[NeMo I 2023-05-17 00:40:48 label_models:510]  two audio files are from different speakers\n",
      "tensor(0.5028)\n",
      "[NeMo I 2023-05-17 00:40:48 label_models:510]  two audio files are from different speakers\n",
      "tensor(0.6426)\n",
      "[NeMo I 2023-05-17 00:40:48 label_models:510]  two audio files are from different speakers\n",
      "tensor(0.5919)\n",
      "[NeMo I 2023-05-17 00:40:49 label_models:510]  two audio files are from different speakers\n",
      "tensor(0.5658)\n",
      "[NeMo I 2023-05-17 00:40:49 label_models:510]  two audio files are from different speakers\n",
      "tensor(0.5922)\n",
      "[NeMo I 2023-05-17 00:40:49 label_models:510]  two audio files are from different speakers\n",
      "tensor(0.5479)\n",
      "[NeMo I 2023-05-17 00:40:49 label_models:510]  two audio files are from different speakers\n",
      "tensor(0.5440)\n",
      "[NeMo I 2023-05-17 00:40:50 label_models:510]  two audio files are from different speakers\n",
      "tensor(0.5226)\n",
      "[NeMo I 2023-05-17 00:40:50 label_models:510]  two audio files are from different speakers\n",
      "tensor(0.4827)\n",
      "[NeMo I 2023-05-17 00:40:50 label_models:510]  two audio files are from different speakers\n",
      "tensor(0.6206)\n",
      "[NeMo I 2023-05-17 00:40:50 label_models:510]  two audio files are from different speakers\n",
      "tensor(0.5593)\n",
      "[NeMo I 2023-05-17 00:40:51 label_models:510]  two audio files are from different speakers\n",
      "tensor(0.5993)\n",
      "[NeMo I 2023-05-17 00:40:51 label_models:510]  two audio files are from different speakers\n",
      "tensor(0.5562)\n",
      "[NeMo I 2023-05-17 00:40:51 label_models:510]  two audio files are from different speakers\n",
      "tensor(0.5957)\n",
      "[NeMo I 2023-05-17 00:40:52 label_models:510]  two audio files are from different speakers\n",
      "tensor(0.5255)\n",
      "[NeMo I 2023-05-17 00:40:52 label_models:510]  two audio files are from different speakers\n",
      "tensor(0.5369)\n",
      "[NeMo I 2023-05-17 00:40:52 label_models:510]  two audio files are from different speakers\n",
      "tensor(0.5182)\n",
      "[NeMo I 2023-05-17 00:40:52 label_models:510]  two audio files are from different speakers\n",
      "tensor(0.5715)\n",
      "[NeMo I 2023-05-17 00:40:53 label_models:510]  two audio files are from different speakers\n",
      "tensor(0.6263)\n",
      "[NeMo I 2023-05-17 00:40:53 label_models:510]  two audio files are from different speakers\n",
      "tensor(0.6305)\n",
      "[NeMo I 2023-05-17 00:40:53 label_models:510]  two audio files are from different speakers\n",
      "tensor(0.6582)\n",
      "[NeMo I 2023-05-17 00:40:53 label_models:510]  two audio files are from different speakers\n"
     ]
    },
    {
     "name": "stderr",
     "output_type": "stream",
     "text": [
      "100%|██████████| 10/10 [01:34<00:00,  9.48s/it]\n"
     ]
    }
   ],
   "source": [
    "speaker_map = {}\n",
    "\n",
    "for speaker_1, wavs_1 in tqdm(speaker2wavs.items()):\n",
    "    wavs_1 = random.sample(wavs_1, 2)\n",
    "    for speaker_2, wavs_2 in speaker2wavs.items():\n",
    "        if speaker_1 == speaker_2:\n",
    "            continue\n",
    "        if speaker_1 in speaker_map and speaker_2 in speaker_map:\n",
    "            continue\n",
    "        wavs_2 = random.sample(wavs_2, 2)\n",
    "        res = infer_verification(wavs_1, wavs_2)\n",
    "\n",
    "        if res == True:\n",
    "            if speaker_1 not in speaker_map:\n",
    "                speaker_map[speaker_1] = [speaker_2,]\n",
    "            else:\n",
    "                speaker_map[speaker_1].append(speaker_2)\n",
    "\n",
    "            if speaker_2 not in speaker_map:\n",
    "                speaker_map[speaker_2] = [speaker_1,]\n",
    "            else:\n",
    "                speaker_map[speaker_2].append(speaker_1)"
   ]
  },
  {
   "cell_type": "code",
   "execution_count": 10,
   "metadata": {},
   "outputs": [],
   "source": [
    "speaker_map = {'wav_2.rttm_speaker_3': ['wav_3.rttm_speaker_1', 'wav_0.rttm_speaker_0'],\n",
    " 'wav_3.rttm_speaker_1': ['wav_2.rttm_speaker_3'],\n",
    " 'wav_0.rttm_speaker_0': ['wav_2.rttm_speaker_3']}\n",
    "\n",
    "for key, value in speaker2wavs.items():\n",
    "    if key not in speaker_map:\n",
    "        speaker_map[key] = [key,]"
   ]
  },
  {
   "cell_type": "code",
   "execution_count": 18,
   "metadata": {},
   "outputs": [],
   "source": [
    "speaker2id = {}\n",
    "count = 0\n",
    "for key, value in speaker_map.items():\n",
    "    if key not in speaker2id:\n",
    "        speaker2id[key] = f\"speaker_{count}\"\n",
    "        count += 1\n",
    "        for mapped_spk in value:\n",
    "            speaker2id[mapped_spk] = speaker2id[key]\n"
   ]
  },
  {
   "cell_type": "code",
   "execution_count": 19,
   "metadata": {},
   "outputs": [
    {
     "data": {
      "text/plain": [
       "{'wav_2.rttm_speaker_3': 'speaker_0',\n",
       " 'wav_3.rttm_speaker_1': 'speaker_0',\n",
       " 'wav_0.rttm_speaker_0': 'speaker_0',\n",
       " 'wav_0.rttm_speaker_1': 'speaker_1',\n",
       " 'wav_2.rttm_speaker_1': 'speaker_2',\n",
       " 'wav_1.rttm_speaker_0': 'speaker_3',\n",
       " 'wav_2.rttm_speaker_0': 'speaker_4',\n",
       " 'wav_3.rttm_speaker_0': 'speaker_5',\n",
       " 'wav_2.rttm_speaker_4': 'speaker_6',\n",
       " 'wav_2.rttm_speaker_2': 'speaker_7'}"
      ]
     },
     "execution_count": 19,
     "metadata": {},
     "output_type": "execute_result"
    }
   ],
   "source": [
    "speaker2id"
   ]
  },
  {
   "cell_type": "code",
   "execution_count": 27,
   "metadata": {},
   "outputs": [],
   "source": [
    "import shutil"
   ]
  },
  {
   "cell_type": "code",
   "execution_count": 30,
   "metadata": {},
   "outputs": [],
   "source": [
    "path = \"/home/tuyendv/Desktop/codes/ess_data_crawler_pipline/outputs/speaker_diarization/*/*.wav\"\n",
    "output_path = \"/home/tuyendv/Desktop/codes/ess_data_crawler_pipline/outputs/datas\"\n",
    "files = glob(path)\n",
    "speaker2num_utt = dict.fromkeys(speaker2id.keys(), 0)\n",
    "\n",
    "for _file in files:\n",
    "    _id = _file.split(\"/\")[-1]\n",
    "    _id = \"_\".join(_id.split(\"_\")[:-1])\n",
    "    output_dir = f'{output_path}/{speaker2id[_id]}'\n",
    "    if not os.path.exists(output_dir):\n",
    "        os.mkdir(output_dir)\n",
    "    shutil.copy(_file, f'{output_dir}/{speaker2num_utt[_id]}.wav')\n",
    "    speaker2num_utt[_id] += 1"
   ]
  },
  {
   "cell_type": "code",
   "execution_count": 60,
   "metadata": {},
   "outputs": [
    {
     "name": "stderr",
     "output_type": "stream",
     "text": [
      "100%|██████████| 195/195 [00:25<00:00,  7.60it/s]\n"
     ]
    }
   ],
   "source": [
    "# load data\n",
    "path = \"/home/tuyendv/Desktop/codes/ess_data_crawler_pipline/outputs/speaker_diarization\"\n",
    "files = glob(f'{path}/*/*.wav')\n",
    "\n",
    "speakers = []\n",
    "embeddings = []\n",
    "for _file in tqdm(files):\n",
    "    embedding = verification_model.get_embedding(_file)\n",
    "    speakers.append(_file.split(\"/\")[-1])\n",
    "    embeddings.append(embedding)"
   ]
  }
 ],
 "metadata": {
  "kernelspec": {
   "display_name": "dl",
   "language": "python",
   "name": "python3"
  },
  "language_info": {
   "codemirror_mode": {
    "name": "ipython",
    "version": 3
   },
   "file_extension": ".py",
   "mimetype": "text/x-python",
   "name": "python",
   "nbconvert_exporter": "python",
   "pygments_lexer": "ipython3",
   "version": "3.8.16"
  },
  "orig_nbformat": 4
 },
 "nbformat": 4,
 "nbformat_minor": 2
}
